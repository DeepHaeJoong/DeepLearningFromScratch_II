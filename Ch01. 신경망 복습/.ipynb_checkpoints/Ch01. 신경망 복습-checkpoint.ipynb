{
 "cells": [
  {
   "cell_type": "markdown",
   "metadata": {},
   "source": [
    "### 1.1 수학과 파이썬 복습"
   ]
  },
  {
   "cell_type": "markdown",
   "metadata": {},
   "source": [
    "### 1.1.1 벡터와 행렬"
   ]
  },
  {
   "cell_type": "markdown",
   "metadata": {},
   "source": [
    "> **그림 1-1 벡터($\\mathbf{x}$)와 행렬($A$)의 예**\n",
    "$$ \\mathbf{x} = \n",
    "    \\begin{bmatrix}\n",
    "    1 \\\\\n",
    "    2 \\\\\n",
    "    3 \\\\\n",
    "    \\end{bmatrix} ,\\qquad A =     \\begin{bmatrix}\n",
    "    \\bbox[yellow, 5px,border:2px solid red]{1} & \\bbox[5px,border:2px solid red]{2} \\\\\n",
    "    \\bbox[yellow, 5px]{2} & 4 \\\\\n",
    "    \\bbox[yellow, 5px]{3} & 6 \\\\\n",
    "    \\end{bmatrix}\n",
    "$$"
   ]
  },
  {
   "cell_type": "markdown",
   "metadata": {},
   "source": [
    "> **그림 1-2 벡터의 표현법**\n",
    "> $$ \\mathbf{x}(열벡터) = \n",
    "    \\begin{bmatrix}\n",
    "    1 \\\\\n",
    "    2 \\\\\n",
    "    3 \\\\\n",
    "    \\end{bmatrix} \\qquad  \\mathbf{x}^T(행벡터) = \\begin{bmatrix}\n",
    "    1 & 2 & 3\\\\\n",
    "    \\end{bmatrix}\n",
    "$$"
   ]
  },
  {
   "cell_type": "markdown",
   "metadata": {},
   "source": [
    "이 책에서는 구현 편의를 고려하여 '행벡터'로 다룸"
   ]
  },
  {
   "cell_type": "code",
   "execution_count": 14,
   "metadata": {},
   "outputs": [
    {
     "data": {
      "text/plain": [
       "numpy.ndarray"
      ]
     },
     "execution_count": 14,
     "metadata": {},
     "output_type": "execute_result"
    }
   ],
   "source": [
    "import numpy as np\n",
    "\n",
    "x = np.array([1, 2, 3])\n",
    "x.__class__"
   ]
  },
  {
   "cell_type": "code",
   "execution_count": 15,
   "metadata": {},
   "outputs": [
    {
     "data": {
      "text/plain": [
       "(3,)"
      ]
     },
     "execution_count": 15,
     "metadata": {},
     "output_type": "execute_result"
    }
   ],
   "source": [
    "x.shape"
   ]
  },
  {
   "cell_type": "code",
   "execution_count": 16,
   "metadata": {},
   "outputs": [
    {
     "data": {
      "text/plain": [
       "1"
      ]
     },
     "execution_count": 16,
     "metadata": {},
     "output_type": "execute_result"
    }
   ],
   "source": [
    "x.ndim"
   ]
  },
  {
   "cell_type": "code",
   "execution_count": 17,
   "metadata": {},
   "outputs": [
    {
     "data": {
      "text/plain": [
       "(2, 3)"
      ]
     },
     "execution_count": 17,
     "metadata": {},
     "output_type": "execute_result"
    }
   ],
   "source": [
    "W = np.array([[1, 2, 3], [4, 5, 6]])\n",
    "W.shape"
   ]
  },
  {
   "cell_type": "code",
   "execution_count": 21,
   "metadata": {},
   "outputs": [
    {
     "data": {
      "text/plain": [
       "2"
      ]
     },
     "execution_count": 21,
     "metadata": {},
     "output_type": "execute_result"
    }
   ],
   "source": [
    "W.ndim"
   ]
  },
  {
   "cell_type": "markdown",
   "metadata": {},
   "source": [
    "### 1.1.2 행렬의 원소별 연산"
   ]
  },
  {
   "cell_type": "code",
   "execution_count": 52,
   "metadata": {},
   "outputs": [],
   "source": [
    "W = np.array([[1, 2, 3], [4, 5, 6]]) # 2 x 3\n",
    "X = np.array([[0, 1, 2], [3, 4, 5]]) # 2 x 3"
   ]
  },
  {
   "cell_type": "markdown",
   "metadata": {},
   "source": [
    "element 연산"
   ]
  },
  {
   "cell_type": "code",
   "execution_count": 51,
   "metadata": {},
   "outputs": [
    {
     "data": {
      "text/plain": [
       "array([[ 1,  3,  5],\n",
       "       [ 7,  9, 11]])"
      ]
     },
     "execution_count": 51,
     "metadata": {},
     "output_type": "execute_result"
    }
   ],
   "source": [
    "# 합\n",
    "W + X"
   ]
  },
  {
   "cell_type": "code",
   "execution_count": 50,
   "metadata": {},
   "outputs": [
    {
     "data": {
      "text/plain": [
       "array([[ 0,  2,  6],\n",
       "       [12, 20, 30]])"
      ]
     },
     "execution_count": 50,
     "metadata": {},
     "output_type": "execute_result"
    }
   ],
   "source": [
    "# 곱\n",
    "W * X"
   ]
  },
  {
   "cell_type": "markdown",
   "metadata": {},
   "source": [
    "### 1.1.3 브로드캐스트"
   ]
  },
  {
   "cell_type": "code",
   "execution_count": 49,
   "metadata": {
    "scrolled": true
   },
   "outputs": [
    {
     "data": {
      "text/plain": [
       "array([[10, 20],\n",
       "       [30, 40]])"
      ]
     },
     "execution_count": 49,
     "metadata": {},
     "output_type": "execute_result"
    }
   ],
   "source": [
    "A = np.array([[1,2] , [3, 4]])\n",
    "A * 10"
   ]
  },
  {
   "cell_type": "markdown",
   "metadata": {},
   "source": [
    "> **그림 1-3** 브로드캐스트의 예 : Scalor 값인 `10`이 2x2 행렬로 처리된다."
   ]
  },
  {
   "cell_type": "markdown",
   "metadata": {},
   "source": [
    "![alt text](https://raw.githubusercontent.com/DeepHaeJoong/DeepLearningFromScratch_II/master/PNG/Figure%201-3.PNG?token=AF5I4WAQIMHZO2U4HFISZI2437BN2 \"Title\")"
   ]
  },
  {
   "cell_type": "code",
   "execution_count": 48,
   "metadata": {
    "scrolled": false
   },
   "outputs": [
    {
     "data": {
      "text/plain": [
       "array([[10, 40],\n",
       "       [30, 80]])"
      ]
     },
     "execution_count": 48,
     "metadata": {},
     "output_type": "execute_result"
    }
   ],
   "source": [
    "A = np.array([[1, 2], [3, 4]])\n",
    "b = np.array(([10, 20]))\n",
    "A * b"
   ]
  },
  {
   "cell_type": "markdown",
   "metadata": {},
   "source": [
    "> **그림 1-3** 브로드캐스트 예 : 행렬 `[10, 20]`이 2 x 2 행렬로 영리하게 처리된다."
   ]
  },
  {
   "cell_type": "markdown",
   "metadata": {},
   "source": [
    "\n",
    "![alt text](https://github.com/DeepHaeJoong/DeepLearningFromScratch_II/blob/master/PNG/Figure%201-4.PNG?raw=true \"Title\")"
   ]
  },
  {
   "cell_type": "markdown",
   "metadata": {},
   "source": [
    "### 1.1.4 벡터의 내적과 행렬의 곱\n",
    "\n",
    "**벡터의 내적** : 대응하는 원소들의 곱을 모두 더한 값"
   ]
  },
  {
   "cell_type": "markdown",
   "metadata": {},
   "source": [
    "$$\n",
    "\\mathbf{x} \\bullet \\mathbf{y} = x_1y_1 + x_2y_2 + \\ldots + x_ny_n\\\\\n",
    "$$"
   ]
  },
  {
   "cell_type": "markdown",
   "metadata": {},
   "source": [
    "벡터의 내적은 직관적으로 '두 벡터가 얼마나 같은 방향을 향하고 있는가'를 나타냄. 벡터의 길이가 1인 경우로 한정하면, 완전히 같은 방향을 향하는 두 벡터의 내적은 1이 된다. 반대로 반대 방향을 향하는 두 벡터의 내적은 -1이다."
   ]
  },
  {
   "cell_type": "markdown",
   "metadata": {},
   "source": [
    "**행렬의 곱** : 왼쪽 행렬의 Row 벡터와 오른쪽 행렬의 Column **벡터의 내적**으로 계산 (보다 효율적)\n",
    "\n",
    "> **그림 1-5** : 행렬의 곱셈 방법"
   ]
  },
  {
   "cell_type": "markdown",
   "metadata": {},
   "source": [
    "$$\n",
    "    \\begin{bmatrix}\n",
    "    \\bbox[yellow, 5px,border:2px solid red]{1} & \\bbox[skyblue, 5px,border:2px solid red]{2} \\\\\n",
    "    3 & 4 \\\\\n",
    "    \\end{bmatrix}    \n",
    "    \\begin{bmatrix}\n",
    "    \\bbox[yellow, 5px,border:2px solid red]{5} & 6 \\\\\n",
    "    \\bbox[skyblue, 5px,border:2px solid red]{7} & 8 \\\\\n",
    "    \\end{bmatrix} = \n",
    "    \\begin{bmatrix}\n",
    "    19 & 22 \\\\\n",
    "    43 & 50 \\\\\n",
    "    \\end{bmatrix}\n",
    "$$\n",
    "\n",
    "$$\\begin{align}\n",
    "x_{11} &= \\bbox[yellow, 5px,border:2px solid red]{1} * \\bbox[yellow, 5px,border:2px solid red]{5} + \\bbox[skyblue, 5px,border:2px solid red]{2} * \\bbox[skyblue, 5px,border:2px solid red]{2} &= 19 \\\\\n",
    "x_{12} &= 1 * 6 + 2 * 8 &= 22 \\\\\n",
    "x_{21} &= 3 * 5 + 4 * 7 &= 43 \\\\\n",
    "x_{22} &= 3 * 6 + 4 * 8 &= 50 \\\\\n",
    "\\end{align} \n",
    "$$"
   ]
  },
  {
   "cell_type": "code",
   "execution_count": 41,
   "metadata": {},
   "outputs": [
    {
     "data": {
      "text/plain": [
       "32"
      ]
     },
     "execution_count": 41,
     "metadata": {},
     "output_type": "execute_result"
    }
   ],
   "source": [
    "# 벡터의 내적\n",
    "a = np.array([1, 2, 3])\n",
    "b = np.array([4, 5, 6])\n",
    "np.dot(a,b)"
   ]
  },
  {
   "cell_type": "code",
   "execution_count": 42,
   "metadata": {},
   "outputs": [
    {
     "data": {
      "text/plain": [
       "array([[16, 19],\n",
       "       [36, 43]])"
      ]
     },
     "execution_count": 42,
     "metadata": {},
     "output_type": "execute_result"
    }
   ],
   "source": [
    "# 행렬의 곱\n",
    "A = np.array([[1, 2], [3, 4]])\n",
    "B = np.array([[4, 5], [6, 7]])\n",
    "np.matmul(A, B)"
   ]
  },
  {
   "cell_type": "code",
   "execution_count": 45,
   "metadata": {},
   "outputs": [
    {
     "data": {
      "text/plain": [
       "array([[16, 19],\n",
       "       [36, 43]])"
      ]
     },
     "execution_count": 45,
     "metadata": {},
     "output_type": "execute_result"
    }
   ],
   "source": [
    "np.dot(A, B)"
   ]
  },
  {
   "cell_type": "markdown",
   "metadata": {},
   "source": [
    "### Numpy 연습 : [100 numpy exercises](https://github.com/rougier/numpy-100/blob/master/100_Numpy_exercises_no_solution.ipynb)"
   ]
  },
  {
   "cell_type": "markdown",
   "metadata": {},
   "source": [
    "### 1.1.5 행렬 형상 확인"
   ]
  },
  {
   "cell_type": "markdown",
   "metadata": {},
   "source": [
    "> **그림 1-6** : 형상 확인 : 행렬의 곱에서는 대응하는 **차원의 원소 수를 일치**시킨다.\n",
    "\n",
    "$$\\begin{align}\n",
    " A \\quad \\cdot \\quad B \\quad &= \\quad C \\\\\n",
    "\\text{형상}: \\quad (3 \\times \\color{red}{2}) \\quad (\\color{red}{2} \\times 4) \\quad &= \\quad  (3 \\times 4)\n",
    "\\end{align} \n",
    "$$"
   ]
  },
  {
   "cell_type": "markdown",
   "metadata": {},
   "source": [
    "---"
   ]
  },
  {
   "cell_type": "markdown",
   "metadata": {},
   "source": [
    "## 1.2 신경망의 추론\n",
    "\n",
    "- **학습**\n",
    "- **추론**"
   ]
  },
  {
   "cell_type": "markdown",
   "metadata": {},
   "source": [
    "### 1.2.1 신경망 추론 전체 그림\n",
    "\n",
    "신경망은 간단히 말하면 단순한 **`함수`**"
   ]
  },
  {
   "cell_type": "markdown",
   "metadata": {},
   "source": [
    "> **그림 1-7** : 신경망의 예 (2차원의 데이터를 입력하여 3차원의 데이터를 출력하는 함수)\n",
    "\n",
    "![alt text](https://github.com/DeepHaeJoong/DeepLearningFromScratch_II/blob/master/PNG/Figure%201-7.png?raw=true \"Title\")\n",
    "\n",
    "> 신경망이 수행하는 계산식(은닉층 $h_1$예시)\n",
    "\n",
    "$$\n",
    "h_1 = x_1w_{11} + x_2w_{21} + b \n",
    "$$"
   ]
  },
  {
   "cell_type": "markdown",
   "metadata": {},
   "source": [
    "> **Fully Connected layer**가 수행하는 변환은 행렬의 곱을 이용해 다음과 같이 정리할 수 있음\n",
    "\n",
    "$$\n",
    "(h_1, h_2, h_3, h_4) = (x_1, x_2)\n",
    "    \\begin{pmatrix}\n",
    "    w_{11} & w_{12} & w_{13} & w_{14}\\\\\n",
    "    w_{21} & w_{22} & w_{23} & w_{24}\\\\\n",
    "    \\end{pmatrix}\n",
    "    +\n",
    "    (b_1, b_2, b_3, b_4)\n",
    "$$\n",
    "\n",
    "> **$\\mathbf{x}$** : 입력, $\\mathbf{h}$ : 은닉층의 뉴런, **W** : 가중치, $\\mathbf{b}$ : 편향\n",
    "\n",
    "$$\n",
    "\\mathbf{h} = \\mathbf{x}W + \\mathbf{b}\n",
    "$$\n",
    "\n",
    "> **그림 1-8** 형상 확인 : 대응하는 차원의 원소 수가 일치함 (편향은 생략)\n",
    "\n",
    "$$\\begin{align}\n",
    "\\mathbf{x} \\quad \\cdot \\quad W \\quad &= \\quad \\mathbf{h} \\\\\n",
    "\\text{형상}: \\quad (1 \\times \\color{red}{2}) \\quad (\\color{red}{2} \\times 4) \\quad &= \\quad  (1 \\times 4)\n",
    "\\end{align} \n",
    "$$\n",
    "\n",
    "#### **Note** : 행렬의 곱 계산에서는 행렬의 형상 확인이 중요하다. 형상을 보면 그 계산식이 올바른 계산인지 적어도 계산이 성립하는지 여부를 확인할 수 있다."
   ]
  },
  {
   "cell_type": "markdown",
   "metadata": {},
   "source": [
    "신경망의 추론이나 학습에서는 다수의 샘플 데이터(미니배치 minibatch)를 한꺼번에 처리한다. 이렇게 하려면 행렬 $\\mathbf{x}$의 행 각각에 샘플 데이터를 하나씩 저장해야 한다. 예를 들면 $N$개의 샘플 데이터를 미니밸치로 한꺼번에 처리한다면 아래와 같이 된다.\n",
    "\n",
    "> **그림 1-9** 형상 확인 : 미니배치 버전의 행렬 곱(편향은 생략)\n",
    "\n",
    "$$\\begin{align}\n",
    "\\mathbf{x} \\quad \\cdot \\quad W \\quad &= \\quad \\mathbf{h} \\\\\n",
    "\\text{형상}: \\quad (\\color{blue}{N} \\times \\color{red}{2}) \\quad (\\color{red}{2} \\times 4) \\quad &= \\quad  (\\color{blue}{N} \\times 4)\n",
    "\\end{align} \n",
    "$$"
   ]
  },
  {
   "cell_type": "markdown",
   "metadata": {},
   "source": [
    "> 예제 : 입력 (10, 2), 가중치 (2, 4), 편향 (4) 일때의 h값은? "
   ]
  },
  {
   "cell_type": "code",
   "execution_count": 5,
   "metadata": {},
   "outputs": [],
   "source": [
    "# N : 10 인 예시\n",
    "import numpy as np\n",
    "W1 = np.random.randn(2, 4)  # 가중치\n",
    "b1 = np.random.randn(4)     # 편향\n",
    "x = np.random.randn(10, 2)  # 입력\n",
    "h = np.matmul(x, W1) + b1 "
   ]
  },
  {
   "cell_type": "code",
   "execution_count": 8,
   "metadata": {},
   "outputs": [
    {
     "data": {
      "text/plain": [
       "(10, 2)"
      ]
     },
     "execution_count": 8,
     "metadata": {},
     "output_type": "execute_result"
    }
   ],
   "source": [
    "x.shape"
   ]
  },
  {
   "cell_type": "markdown",
   "metadata": {},
   "source": [
    " "
   ]
  },
  {
   "cell_type": "code",
   "execution_count": 23,
   "metadata": {},
   "outputs": [
    {
     "name": "stdout",
     "output_type": "stream",
     "text": [
      "입력 데이터 x의 1 번째 값 :  [-0.77124545  0.91184816]\n",
      "입력 데이터 x의 2 번째 값 :  [0.94774877 0.22003934]\n",
      "입력 데이터 x의 3 번째 값 :  [0.80754608 1.03889184]\n",
      "입력 데이터 x의 4 번째 값 :  [-0.53047514 -0.30364489]\n",
      "입력 데이터 x의 5 번째 값 :  [1.05013255 0.14756604]\n",
      "입력 데이터 x의 6 번째 값 :  [ 1.29461482 -0.16075773]\n",
      "입력 데이터 x의 7 번째 값 :  [ 0.97450422 -0.08327966]\n",
      "입력 데이터 x의 8 번째 값 :  [-0.77698905  0.70980119]\n",
      "입력 데이터 x의 9 번째 값 :  [-0.91292518 -1.04387179]\n",
      "입력 데이터 x의 10 번째 값 :  [ 0.51289367 -1.0214704 ]\n"
     ]
    }
   ],
   "source": [
    "for i in range(len(x)):\n",
    "    print('입력 데이터 x의', i + 1, '번째 값 : ',  x[i])"
   ]
  },
  {
   "cell_type": "code",
   "execution_count": 24,
   "metadata": {},
   "outputs": [
    {
     "name": "stdout",
     "output_type": "stream",
     "text": [
      "은닉층 h의 1 번째 값 :  [-2.92728587 -2.28312327  0.00359535  0.07148915]\n",
      "은닉층 h의 2 번째 값 :  [ 0.793367    0.11974653 -0.55464058 -1.57216794]\n",
      "은닉층 h의 3 번째 값 :  [-0.08427636 -0.52877231 -0.50904385 -1.61852958]\n",
      "은닉층 h의 4 번째 값 :  [-1.56374128 -1.28262473 -0.07469136  0.10597351]\n",
      "은닉층 h의 5 번째 값 :  [ 1.03851876  0.28142182 -0.587892   -1.66266518]\n",
      "은닉층 h의 6 번째 값 :  [ 1.72578446  0.74777259 -0.66730487 -1.84675473]\n",
      "은닉층 h의 7 번째 값 :  [ 1.07159748  0.33078986 -0.56335482 -1.52852192]\n",
      "은닉층 h의 8 번째 값 :  [-2.78581539 -2.16985503  0.00544273  0.1253401 ]\n",
      "은닉층 h의 9 번째 값 :  [-1.71815121 -1.28650815  0.04942963  0.683251  ]\n",
      "은닉층 h의 10 번째 값 :  [ 0.91892835  0.35266382 -0.41354685 -0.82116852]\n"
     ]
    }
   ],
   "source": [
    "for i in range(len(h)):\n",
    "    print('은닉층 h의', i + 1, '번째 값 : ',  h[i])"
   ]
  },
  {
   "cell_type": "markdown",
   "metadata": {},
   "source": [
    "#### 활성화 함수 : '비선형' 효과를 부여하는 것, 신경망의 표현력이 높아짐(선형함수를 사용할 시 층을 깊게 하는 의미가 줄어들기 때문)"
   ]
  },
  {
   "cell_type": "markdown",
   "metadata": {},
   "source": [
    "> **Sigmoid Function(시그모이드 함수)**\n",
    "\n",
    "- 선형인 멀티퍼셉트론에서 비선형 값을 얻기 위해 사용하기 시작\n",
    "\n",
    "$$\n",
    "\\sigma(x) = \\frac{1}{1 + exp(-x)}\n",
    "$$\n",
    "\n",
    "$$\n",
    "\\sigma'(x) = \\sigma(x)(1 - \\sigma(x))\n",
    "$$"
   ]
  },
  {
   "cell_type": "code",
   "execution_count": 56,
   "metadata": {},
   "outputs": [
    {
     "data": {
      "image/png": "[encoded data removed]",
      "text/plain": [
       "<Figure size 432x288 with 1 Axes>"
      ]
     },
     "metadata": {
      "needs_background": "light"
     },
     "output_type": "display_data"
    }
   ],
   "source": [
    "def sigmoid(x):\n",
    "    a = []\n",
    "    for item in x:\n",
    "        a.append(1/(1+np.exp(-item)))\n",
    "    return a\n",
    "\n",
    "import matplotlib.pyplot as plt\n",
    "\n",
    "plt.rcParams['axes.grid'] = True \n",
    "\n",
    "x = np.arange(-10., 10., 0.2)\n",
    "sig = sigmoid(x)\n",
    "\n",
    "plt.plot(x,sig)\n",
    "plt.ylabel('sigmoid(x)', fontsize = 15)\n",
    "plt.xlabel('x', fontsize = 15)\n",
    "plt.title(\"Sigmoid Function\", fontsize = 20)\n",
    "plt.show()"
   ]
  },
  {
   "cell_type": "markdown",
   "metadata": {},
   "source": [
    "> **sigmoid에 대해 특징**\n",
    "\n",
    "- 우선 함수값이 `(0, 1)`로 제한된다.\n",
    "- 중간 값은 `0.5` 이다.\n",
    "- 매우 큰 값을 가지면 함수값은 거의 `1`이며, 매우 작은 값을 가지면 거의 `0`이다."
   ]
  },
  {
   "cell_type": "code",
   "execution_count": 50,
   "metadata": {},
   "outputs": [],
   "source": [
    "def derivatived_sigmoid(x):\n",
    "    a = []\n",
    "    for item in x:\n",
    "        a.append((1/(1+np.exp(item)))*(1 - (1/(1+np.exp(item)))))\n",
    "    return a"
   ]
  },
  {
   "cell_type": "code",
   "execution_count": 59,
   "metadata": {},
   "outputs": [
    {
     "data": {
      "image/png": "[encoded data removed]",
      "text/plain": [
       "<Figure size 432x288 with 1 Axes>"
      ]
     },
     "metadata": {
      "needs_background": "light"
     },
     "output_type": "display_data"
    }
   ],
   "source": [
    "plt.rcParams['axes.grid'] = True \n",
    "\n",
    "x = np.arange(-10., 10., 0.2)\n",
    "de_sig = derivatived_sigmoid(x)\n",
    "\n",
    "plt.plot(x,de_sig)\n",
    "plt.ylabel('dy/dx', fontsize = 15)\n",
    "plt.ylim(0, 1)\n",
    "plt.xlabel('x', fontsize = 15)\n",
    "plt.title(\"Sigmoid Function (Derivative)\", fontsize = 20)\n",
    "plt.show()"
   ]
  },
  {
   "cell_type": "markdown",
   "metadata": {},
   "source": [
    "[참고 : 딥러닝에서 사용하는 활성화 함수](https://reniew.github.io/12/)"
   ]
  },
  {
   "cell_type": "code",
   "execution_count": 61,
   "metadata": {},
   "outputs": [],
   "source": [
    "def sigmoid(x):\n",
    "    return 1/(1+np.exp(-x))"
   ]
  },
  {
   "cell_type": "code",
   "execution_count": 64,
   "metadata": {},
   "outputs": [
    {
     "data": {
      "text/plain": [
       "array([[-2.92728587, -2.28312327,  0.00359535,  0.07148915],\n",
       "       [ 0.793367  ,  0.11974653, -0.55464058, -1.57216794],\n",
       "       [-0.08427636, -0.52877231, -0.50904385, -1.61852958],\n",
       "       [-1.56374128, -1.28262473, -0.07469136,  0.10597351],\n",
       "       [ 1.03851876,  0.28142182, -0.587892  , -1.66266518],\n",
       "       [ 1.72578446,  0.74777259, -0.66730487, -1.84675473],\n",
       "       [ 1.07159748,  0.33078986, -0.56335482, -1.52852192],\n",
       "       [-2.78581539, -2.16985503,  0.00544273,  0.1253401 ],\n",
       "       [-1.71815121, -1.28650815,  0.04942963,  0.683251  ],\n",
       "       [ 0.91892835,  0.35266382, -0.41354685, -0.82116852]])"
      ]
     },
     "execution_count": 64,
     "metadata": {},
     "output_type": "execute_result"
    }
   ],
   "source": [
    "# 선형 변환\n",
    "h"
   ]
  },
  {
   "cell_type": "code",
   "execution_count": 66,
   "metadata": {},
   "outputs": [
    {
     "data": {
      "text/plain": [
       "array([[0.05082109, 0.09253036, 0.50089884, 0.51786468],\n",
       "       [0.68855383, 0.52990091, 0.36478843, 0.17190755],\n",
       "       [0.47894337, 0.37080327, 0.3754177 , 0.16540776],\n",
       "       [0.17311045, 0.21710377, 0.48133584, 0.52646861],\n",
       "       [0.7385641 , 0.56989477, 0.35711867, 0.15940455],\n",
       "       [0.84887241, 0.67869316, 0.33910059, 0.13625438],\n",
       "       [0.74490059, 0.58195155, 0.36277157, 0.17821005],\n",
       "       [0.05809552, 0.10249037, 0.50136068, 0.53129407],\n",
       "       [0.15210945, 0.21644443, 0.51235489, 0.6644639 ],\n",
       "       [0.7148237 , 0.5872634 , 0.39806196, 0.30551567]])"
      ]
     },
     "execution_count": 66,
     "metadata": {},
     "output_type": "execute_result"
    }
   ],
   "source": [
    "# 선형 변환 + 비선형 변환\n",
    "a = sigmoid(h)\n",
    "a"
   ]
  },
  {
   "cell_type": "code",
   "execution_count": 67,
   "metadata": {},
   "outputs": [],
   "source": [
    "import numpy as np\n",
    "\n",
    "def sigmoid(x):\n",
    "    return 1/(1+np.exp(-x))\n",
    "\n",
    "x = np.random.randn(10, 2)\n",
    "W1 = np.random.randn(2, 4)\n",
    "b1 = np.random.randn(4)\n",
    "W2 = np.random.randn(4, 3)\n",
    "b2 = np.random.randn(3)\n",
    "\n",
    "h = np.matmul(x, W1) + b1\n",
    "a = sigmoid(h)\n",
    "s = np.matmul(a, W2)  + b2"
   ]
  },
  {
   "cell_type": "code",
   "execution_count": 69,
   "metadata": {},
   "outputs": [
    {
     "data": {
      "text/plain": [
       "array([[ 0.32413868, -3.7847617 , -1.58925224],\n",
       "       [-0.72087922, -2.76152691, -1.5450971 ],\n",
       "       [-0.8892024 , -2.68593321, -1.5590375 ],\n",
       "       [-0.38253822, -3.13384833, -1.62470518],\n",
       "       [-0.61361154, -2.93829585, -1.59722657],\n",
       "       [-1.29857096, -2.31217977, -1.54353601],\n",
       "       [-1.01573835, -2.24704545, -1.43864326],\n",
       "       [-0.34877704, -3.06211528, -1.54501765],\n",
       "       [-1.18671604, -2.20968847, -1.53934683],\n",
       "       [ 0.07883572, -3.4531414 , -1.55470817]])"
      ]
     },
     "execution_count": 69,
     "metadata": {},
     "output_type": "execute_result"
    }
   ],
   "source": [
    "s"
   ]
  },
  {
   "cell_type": "markdown",
   "metadata": {},
   "source": [
    "10개의 입력데이터를 은닉층을 통해 계산된 결과를 보면 3차원 데이터를 출력. 각 차원의 값을 이용하여 3 클래스 분류 가능. 각 차원은 각 클래스에 대응하는 '점수(Score)'가 된다. 실제로 분류를 한다면 출력층에서 가장 큰 값을 내뱉는 뉴런에 해당하는 클래스가 예측 결과이다."
   ]
  },
  {
   "cell_type": "markdown",
   "metadata": {},
   "source": [
    "**점수** : '확률'이 되기 전의 값, 이를 확률로 나타내기 위해 **소프트맥스 함수** 사용\n",
    "\n",
    "### Softmax 함수"
   ]
  },
  {
   "cell_type": "markdown",
   "metadata": {},
   "source": [
    "$$\n",
    "f(x_i) = \\frac{\\exp(x_i)}{\\sum _{k=1} ^ K \\exp{x_k}}, \\quad \\text{for i = 1, ... , K}\n",
    "$$"
   ]
  },
  {
   "cell_type": "markdown",
   "metadata": {},
   "source": [
    "### 1.2.2 계층으로 클래스화 및 순전파 구현"
   ]
  },
  {
   "cell_type": "code",
   "execution_count": 72,
   "metadata": {},
   "outputs": [],
   "source": [
    "import numpy as np\n",
    "\n",
    "class Sigmoid:\n",
    "    def __init__(self):\n",
    "        self.params = []\n",
    "        \n",
    "    def forward(self, x):\n",
    "        return 1/(1+np.exp(-x))"
   ]
  },
  {
   "cell_type": "code",
   "execution_count": 73,
   "metadata": {},
   "outputs": [],
   "source": [
    "class Affine:\n",
    "    def __init__(self, W, b):\n",
    "        self.params = [W, b]\n",
    "        \n",
    "    def forward(self, x):\n",
    "        W, b = self.params\n",
    "        out = np.matmul(x, W) + b\n",
    "        return out"
   ]
  }
 ],
 "metadata": {
  "kernelspec": {
   "display_name": "Python 3",
   "language": "python",
   "name": "python3"
  },
  "language_info": {
   "codemirror_mode": {
    "name": "ipython",
    "version": 3
   },
   "file_extension": ".py",
   "mimetype": "text/x-python",
   "name": "python",
   "nbconvert_exporter": "python",
   "pygments_lexer": "ipython3",
   "version": "3.7.1"
  }
 },
 "nbformat": 4,
 "nbformat_minor": 2
}
