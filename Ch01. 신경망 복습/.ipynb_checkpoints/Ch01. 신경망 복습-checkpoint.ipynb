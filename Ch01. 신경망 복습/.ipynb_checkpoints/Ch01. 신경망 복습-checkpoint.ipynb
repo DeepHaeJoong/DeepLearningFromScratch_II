{
 "cells": [
  {
   "cell_type": "markdown",
   "metadata": {},
   "source": [
    "### 1.1 수학과 파이썬 복습"
   ]
  },
  {
   "cell_type": "markdown",
   "metadata": {},
   "source": [
    "### 1.1.1 벡터와 행렬"
   ]
  },
  {
   "cell_type": "markdown",
   "metadata": {},
   "source": [
    "> **그림 1-1 벡터($\\mathbf{x}$)와 행렬($A$)의 예**\n",
    "$$ \\mathbf{x} = \n",
    "    \\begin{bmatrix}\n",
    "    1 \\\\\n",
    "    2 \\\\\n",
    "    3 \\\\\n",
    "    \\end{bmatrix} ,\\qquad A =     \\begin{bmatrix}\n",
    "    \\bbox[yellow, 5px,border:2px solid red]{1} & \\bbox[5px,border:2px solid red]{2} \\\\\n",
    "    \\bbox[yellow, 5px]{2} & 4 \\\\\n",
    "    \\bbox[yellow, 5px]{3} & 6 \\\\\n",
    "    \\end{bmatrix}\n",
    "$$"
   ]
  },
  {
   "cell_type": "markdown",
   "metadata": {},
   "source": [
    "> **그림 1-2 벡터의 표현법**\n",
    "> $$ \\mathbf{x}(열벡터) = \n",
    "    \\begin{bmatrix}\n",
    "    1 \\\\\n",
    "    2 \\\\\n",
    "    3 \\\\\n",
    "    \\end{bmatrix} \\qquad  \\mathbf{x}^T(행벡터) = \\begin{bmatrix}\n",
    "    1 & 2 & 3\\\\\n",
    "    \\end{bmatrix}\n",
    "$$"
   ]
  },
  {
   "cell_type": "markdown",
   "metadata": {},
   "source": [
    "이 책에서는 구현 편의를 고려하여 '행벡터'로 다룸"
   ]
  },
  {
   "cell_type": "code",
   "execution_count": 4,
   "metadata": {},
   "outputs": [
    {
     "data": {
      "text/plain": [
       "numpy.ndarray"
      ]
     },
     "execution_count": 4,
     "metadata": {},
     "output_type": "execute_result"
    }
   ],
   "source": [
    "import numpy as np\n",
    "\n",
    "x = np.array([1, 2, 3])\n",
    "x.__class__"
   ]
  },
  {
   "cell_type": "code",
   "execution_count": 5,
   "metadata": {},
   "outputs": [
    {
     "data": {
      "text/plain": [
       "(3,)"
      ]
     },
     "execution_count": 5,
     "metadata": {},
     "output_type": "execute_result"
    }
   ],
   "source": [
    "x.shape"
   ]
  },
  {
   "cell_type": "code",
   "execution_count": 6,
   "metadata": {},
   "outputs": [
    {
     "data": {
      "text/plain": [
       "1"
      ]
     },
     "execution_count": 6,
     "metadata": {},
     "output_type": "execute_result"
    }
   ],
   "source": [
    "x.ndim"
   ]
  },
  {
   "cell_type": "code",
   "execution_count": 7,
   "metadata": {},
   "outputs": [
    {
     "data": {
      "text/plain": [
       "(2, 3)"
      ]
     },
     "execution_count": 7,
     "metadata": {},
     "output_type": "execute_result"
    }
   ],
   "source": [
    "W = np.array([[1, 2, 3], [4, 5, 6]])\n",
    "W.shape"
   ]
  },
  {
   "cell_type": "code",
   "execution_count": 8,
   "metadata": {},
   "outputs": [
    {
     "data": {
      "text/plain": [
       "2"
      ]
     },
     "execution_count": 8,
     "metadata": {},
     "output_type": "execute_result"
    }
   ],
   "source": [
    "W.ndim"
   ]
  },
  {
   "cell_type": "markdown",
   "metadata": {},
   "source": [
    "### 1.1.2 행렬의 원소별 연산"
   ]
  },
  {
   "cell_type": "code",
   "execution_count": 9,
   "metadata": {},
   "outputs": [],
   "source": [
    "W = np.array([[1, 2, 3], [4, 5, 6]]) # 2 x 3\n",
    "X = np.array([[0, 1, 2], [3, 4, 5]]) # 2 x 3"
   ]
  },
  {
   "cell_type": "markdown",
   "metadata": {},
   "source": [
    "element 연산"
   ]
  },
  {
   "cell_type": "code",
   "execution_count": 10,
   "metadata": {},
   "outputs": [
    {
     "data": {
      "text/plain": [
       "array([[ 1,  3,  5],\n",
       "       [ 7,  9, 11]])"
      ]
     },
     "execution_count": 10,
     "metadata": {},
     "output_type": "execute_result"
    }
   ],
   "source": [
    "# 합\n",
    "W + X"
   ]
  },
  {
   "cell_type": "code",
   "execution_count": 11,
   "metadata": {},
   "outputs": [
    {
     "data": {
      "text/plain": [
       "array([[ 0,  2,  6],\n",
       "       [12, 20, 30]])"
      ]
     },
     "execution_count": 11,
     "metadata": {},
     "output_type": "execute_result"
    }
   ],
   "source": [
    "# 곱\n",
    "W * X"
   ]
  },
  {
   "cell_type": "markdown",
   "metadata": {},
   "source": [
    "### 1.1.3 브로드캐스트"
   ]
  },
  {
   "cell_type": "code",
   "execution_count": 12,
   "metadata": {
    "scrolled": true
   },
   "outputs": [
    {
     "data": {
      "text/plain": [
       "array([[10, 20],\n",
       "       [30, 40]])"
      ]
     },
     "execution_count": 12,
     "metadata": {},
     "output_type": "execute_result"
    }
   ],
   "source": [
    "A = np.array([[1,2] , [3, 4]])\n",
    "A * 10"
   ]
  },
  {
   "cell_type": "markdown",
   "metadata": {},
   "source": [
    "> **그림 1-3** 브로드캐스트의 예 : Scalor 값인 `10`이 2x2 행렬로 처리된다."
   ]
  },
  {
   "cell_type": "markdown",
   "metadata": {},
   "source": [
    "![alt text](https://raw.githubusercontent.com/DeepHaeJoong/DeepLearningFromScratch_II/master/PNG/Figure%201-3.PNG?token=AF5I4WAQIMHZO2U4HFISZI2437BN2 \"Title\")"
   ]
  },
  {
   "cell_type": "code",
   "execution_count": 13,
   "metadata": {
    "scrolled": false
   },
   "outputs": [
    {
     "data": {
      "text/plain": [
       "array([[10, 40],\n",
       "       [30, 80]])"
      ]
     },
     "execution_count": 13,
     "metadata": {},
     "output_type": "execute_result"
    }
   ],
   "source": [
    "A = np.array([[1, 2], [3, 4]])\n",
    "b = np.array(([10, 20]))\n",
    "A * b"
   ]
  },
  {
   "cell_type": "markdown",
   "metadata": {},
   "source": [
    "> **그림 1-3** 브로드캐스트 예 : 행렬 `[10, 20]`이 2 x 2 행렬로 영리하게 처리된다."
   ]
  },
  {
   "cell_type": "markdown",
   "metadata": {},
   "source": [
    "\n",
    "![alt text](https://github.com/DeepHaeJoong/DeepLearningFromScratch_II/blob/master/PNG/Figure%201-4.PNG?raw=true \"Title\")"
   ]
  },
  {
   "cell_type": "markdown",
   "metadata": {},
   "source": [
    "### 1.1.4 벡터의 내적과 행렬의 곱\n",
    "\n",
    "**벡터의 내적** : 대응하는 원소들의 곱을 모두 더한 값"
   ]
  },
  {
   "cell_type": "markdown",
   "metadata": {},
   "source": [
    "$$\n",
    "\\mathbf{x} \\bullet \\mathbf{y} = x_1y_1 + x_2y_2 + \\ldots + x_ny_n\\\\\n",
    "$$"
   ]
  },
  {
   "cell_type": "markdown",
   "metadata": {},
   "source": [
    "벡터의 내적은 직관적으로 '두 벡터가 얼마나 같은 방향을 향하고 있는가'를 나타냄. 벡터의 길이가 1인 경우로 한정하면, 완전히 같은 방향을 향하는 두 벡터의 내적은 1이 된다. 반대로 반대 방향을 향하는 두 벡터의 내적은 -1이다."
   ]
  },
  {
   "cell_type": "markdown",
   "metadata": {},
   "source": [
    "**행렬의 곱** : 왼쪽 행렬의 Row 벡터와 오른쪽 행렬의 Column **벡터의 내적**으로 계산 (보다 효율적)\n",
    "\n",
    "> **그림 1-5** : 행렬의 곱셈 방법"
   ]
  },
  {
   "cell_type": "markdown",
   "metadata": {},
   "source": [
    "$$\n",
    "    \\begin{bmatrix}\n",
    "    \\bbox[yellow, 5px,border:2px solid red]{1} & \\bbox[skyblue, 5px,border:2px solid red]{2} \\\\\n",
    "    3 & 4 \\\\\n",
    "    \\end{bmatrix}    \n",
    "    \\begin{bmatrix}\n",
    "    \\bbox[yellow, 5px,border:2px solid red]{5} & 6 \\\\\n",
    "    \\bbox[skyblue, 5px,border:2px solid red]{7} & 8 \\\\\n",
    "    \\end{bmatrix} = \n",
    "    \\begin{bmatrix}\n",
    "    19 & 22 \\\\\n",
    "    43 & 50 \\\\\n",
    "    \\end{bmatrix}\n",
    "$$\n",
    "\n",
    "$$\\begin{align}\n",
    "x_{11} &= \\bbox[yellow, 5px,border:2px solid red]{1} * \\bbox[yellow, 5px,border:2px solid red]{5} + \\bbox[skyblue, 5px,border:2px solid red]{2} * \\bbox[skyblue, 5px,border:2px solid red]{2} &= 19 \\\\\n",
    "x_{12} &= 1 * 6 + 2 * 8 &= 22 \\\\\n",
    "x_{21} &= 3 * 5 + 4 * 7 &= 43 \\\\\n",
    "x_{22} &= 3 * 6 + 4 * 8 &= 50 \\\\\n",
    "\\end{align} \n",
    "$$"
   ]
  },
  {
   "cell_type": "code",
   "execution_count": 14,
   "metadata": {},
   "outputs": [
    {
     "data": {
      "text/plain": [
       "32"
      ]
     },
     "execution_count": 14,
     "metadata": {},
     "output_type": "execute_result"
    }
   ],
   "source": [
    "# 벡터의 내적\n",
    "a = np.array([1, 2, 3])\n",
    "b = np.array([4, 5, 6])\n",
    "np.dot(a,b)"
   ]
  },
  {
   "cell_type": "code",
   "execution_count": 15,
   "metadata": {},
   "outputs": [
    {
     "data": {
      "text/plain": [
       "array([[16, 19],\n",
       "       [36, 43]])"
      ]
     },
     "execution_count": 15,
     "metadata": {},
     "output_type": "execute_result"
    }
   ],
   "source": [
    "# 행렬의 곱\n",
    "A = np.array([[1, 2], [3, 4]])\n",
    "B = np.array([[4, 5], [6, 7]])\n",
    "np.matmul(A, B)"
   ]
  },
  {
   "cell_type": "code",
   "execution_count": 16,
   "metadata": {},
   "outputs": [
    {
     "data": {
      "text/plain": [
       "array([[16, 19],\n",
       "       [36, 43]])"
      ]
     },
     "execution_count": 16,
     "metadata": {},
     "output_type": "execute_result"
    }
   ],
   "source": [
    "np.dot(A, B)"
   ]
  },
  {
   "cell_type": "markdown",
   "metadata": {},
   "source": [
    "### Numpy 연습 : [100 numpy exercises](https://github.com/rougier/numpy-100/blob/master/100_Numpy_exercises_no_solution.ipynb)"
   ]
  },
  {
   "cell_type": "markdown",
   "metadata": {},
   "source": [
    "### 1.1.5 행렬 형상 확인"
   ]
  },
  {
   "cell_type": "markdown",
   "metadata": {},
   "source": [
    "> **그림 1-6** : 형상 확인 : 행렬의 곱에서는 대응하는 **차원의 원소 수를 일치**시킨다.\n",
    "\n",
    "$$\\begin{align}\n",
    " A \\quad \\cdot \\quad B \\quad &= \\quad C \\\\\n",
    "\\text{형상}: \\quad (3 \\times \\color{red}{2}) \\quad (\\color{red}{2} \\times 4) \\quad &= \\quad  (3 \\times 4)\n",
    "\\end{align} \n",
    "$$"
   ]
  },
  {
   "cell_type": "markdown",
   "metadata": {},
   "source": [
    "---"
   ]
  },
  {
   "cell_type": "markdown",
   "metadata": {},
   "source": [
    "## 1.2 신경망의 추론\n",
    "\n",
    "- **학습**\n",
    "- **추론**"
   ]
  },
  {
   "cell_type": "markdown",
   "metadata": {},
   "source": [
    "### 1.2.1 신경망 추론 전체 그림\n",
    "\n",
    "신경망은 간단히 말하면 단순한 **`함수`**"
   ]
  },
  {
   "cell_type": "markdown",
   "metadata": {},
   "source": [
    "> **그림 1-7** : 신경망의 예 (2차원의 데이터를 입력하여 3차원의 데이터를 출력하는 함수)\n",
    "\n",
    "![alt text](https://github.com/DeepHaeJoong/DeepLearningFromScratch_II/blob/master/PNG/Figure%201-7.png?raw=true \"Title\")\n",
    "\n",
    "> 신경망이 수행하는 계산식(은닉층 $h_1$예시)\n",
    "\n",
    "$$\n",
    "h_1 = x_1w_{11} + x_2w_{21} + b \n",
    "$$\n",
    "\n",
    "![alt text](https://github.com/DeepHaeJoong/DeepLearningFromScratch_II/blob/master/PNG/Figure%201-7-2.png?raw=true?raw=true \"Title\")\n"
   ]
  },
  {
   "cell_type": "markdown",
   "metadata": {},
   "source": [
    "> **Fully Connected layer**가 수행하는 변환은 행렬의 곱을 이용해 다음과 같이 정리할 수 있음\n",
    "\n",
    "$$\n",
    "(h_1, h_2, h_3, h_4) = (x_1, x_2)\n",
    "    \\begin{pmatrix}\n",
    "    w_{11} & w_{12} & w_{13} & w_{14}\\\\\n",
    "    w_{21} & w_{22} & w_{23} & w_{24}\\\\\n",
    "    \\end{pmatrix}\n",
    "    +\n",
    "    (b_1, b_2, b_3, b_4)\n",
    "$$\n",
    "\n",
    "> **$\\mathbf{x}$** : 입력, $\\mathbf{h}$ : 은닉층의 뉴런, **W** : 가중치, $\\mathbf{b}$ : 편향\n",
    "\n",
    "$$\n",
    "\\mathbf{h} = \\mathbf{x}W + \\mathbf{b}\n",
    "$$\n",
    "\n",
    "> **그림 1-8** 형상 확인 : 대응하는 차원의 원소 수가 일치함 (편향은 생략)\n",
    "\n",
    "$$\\begin{align}\n",
    "\\mathbf{x} \\quad \\cdot \\quad W \\quad &= \\quad \\mathbf{h} \\\\\n",
    "\\text{형상}: \\quad (1 \\times \\color{red}{2}) \\quad (\\color{red}{2} \\times 4) \\quad &= \\quad  (1 \\times 4)\n",
    "\\end{align} \n",
    "$$\n",
    "\n",
    "#### **Note** : 행렬의 곱 계산에서는 행렬의 형상 확인이 중요하다. 형상을 보면 그 계산식이 올바른 계산인지 적어도 계산이 성립하는지 여부를 확인할 수 있다."
   ]
  },
  {
   "cell_type": "markdown",
   "metadata": {},
   "source": [
    "신경망의 추론이나 학습에서는 다수의 샘플 데이터(미니배치 minibatch)를 한꺼번에 처리한다. 이렇게 하려면 행렬 $\\mathbf{x}$의 행 각각에 샘플 데이터를 하나씩 저장해야 한다. 예를 들면 $N$개의 샘플 데이터를 미니밸치로 한꺼번에 처리한다면 아래와 같이 된다.\n",
    "\n",
    "> **그림 1-9** 형상 확인 : 미니배치 버전의 행렬 곱(편향은 생략)\n",
    "\n",
    "$$\\begin{align}\n",
    "\\mathbf{x} \\quad \\cdot \\quad W \\quad &= \\quad \\mathbf{h} \\\\\n",
    "\\text{형상}: \\quad (\\color{blue}{N} \\times \\color{red}{2}) \\quad (\\color{red}{2} \\times 4) \\quad &= \\quad  (\\color{blue}{N} \\times 4)\n",
    "\\end{align} \n",
    "$$"
   ]
  },
  {
   "cell_type": "markdown",
   "metadata": {},
   "source": [
    "> 예제 : 입력 (10, 2), 가중치 (2, 4), 편향 (4) 일때의 h값은? "
   ]
  },
  {
   "cell_type": "code",
   "execution_count": 17,
   "metadata": {},
   "outputs": [],
   "source": [
    "# N : 10 인 예시\n",
    "import numpy as np\n",
    "W1 = np.random.randn(2, 4)  # 가중치\n",
    "b1 = np.random.randn(4)     # 편향\n",
    "x = np.random.randn(10, 2)  # 입력\n",
    "h = np.matmul(x, W1) + b1 "
   ]
  },
  {
   "cell_type": "code",
   "execution_count": 18,
   "metadata": {},
   "outputs": [
    {
     "data": {
      "text/plain": [
       "(10, 2)"
      ]
     },
     "execution_count": 18,
     "metadata": {},
     "output_type": "execute_result"
    }
   ],
   "source": [
    "x.shape"
   ]
  },
  {
   "cell_type": "markdown",
   "metadata": {},
   "source": [
    " "
   ]
  },
  {
   "cell_type": "code",
   "execution_count": 19,
   "metadata": {},
   "outputs": [
    {
     "name": "stdout",
     "output_type": "stream",
     "text": [
      "입력 데이터 x의 1 번째 값 :  [1.29789617 0.68654701]\n",
      "입력 데이터 x의 2 번째 값 :  [ 0.04671607 -1.89605758]\n",
      "입력 데이터 x의 3 번째 값 :  [-0.33558765 -0.01279759]\n",
      "입력 데이터 x의 4 번째 값 :  [ 0.2790078  -1.28200139]\n",
      "입력 데이터 x의 5 번째 값 :  [-0.18890127 -0.90084956]\n",
      "입력 데이터 x의 6 번째 값 :  [ 0.86739163 -1.50466338]\n",
      "입력 데이터 x의 7 번째 값 :  [-1.61325866  0.26657005]\n",
      "입력 데이터 x의 8 번째 값 :  [ 0.33273547 -0.98187717]\n",
      "입력 데이터 x의 9 번째 값 :  [-0.91805759 -1.4282676 ]\n",
      "입력 데이터 x의 10 번째 값 :  [-1.26355243 -0.79200265]\n"
     ]
    }
   ],
   "source": [
    "for i in range(len(x)):\n",
    "    print('입력 데이터 x의', i + 1, '번째 값 : ',  x[i])"
   ]
  },
  {
   "cell_type": "code",
   "execution_count": 20,
   "metadata": {},
   "outputs": [
    {
     "name": "stdout",
     "output_type": "stream",
     "text": [
      "은닉층 h의 1 번째 값 :  [-1.51083633 -2.31227971 -1.59917014  0.23851742]\n",
      "은닉층 h의 2 번째 값 :  [-2.10549557 -1.59848846  1.16608944  0.73661629]\n",
      "은닉층 h의 3 번째 값 :  [-1.90833199 -1.23673174  1.52831829 -0.09450745]\n",
      "은닉층 h의 4 번째 값 :  [-1.9760136  -1.72377551  0.62838859  0.59462265]\n",
      "은닉층 h의 5 번째 값 :  [-2.00743946 -1.3844289   1.41922169  0.28526993]\n",
      "은닉층 h의 6 번째 값 :  [-1.90011436 -2.13670027 -0.41241813  0.88919855]\n",
      "은닉층 h의 7 번째 값 :  [-2.10208771 -0.35104239  3.82529583 -0.65906186]\n",
      "은닉층 h의 8 번째 값 :  [-1.92365181 -1.74425512  0.47546488  0.50360777]\n",
      "은닉층 h의 9 번째 값 :  [-2.21538914 -0.91589507  2.85415257  0.21581413]\n",
      "은닉층 h의 10 번째 값 :  [-2.18828912 -0.64625428  3.37399581 -0.14316756]\n"
     ]
    }
   ],
   "source": [
    "for i in range(len(h)):\n",
    "    print('은닉층 h의', i + 1, '번째 값 : ',  h[i])"
   ]
  },
  {
   "cell_type": "markdown",
   "metadata": {},
   "source": [
    "#### 활성화 함수 : '비선형' 효과를 부여하는 것, 신경망의 표현력이 높아짐(선형함수를 사용할 시 층을 깊게 하는 의미가 줄어들기 때문)"
   ]
  },
  {
   "cell_type": "markdown",
   "metadata": {},
   "source": [
    "> **Sigmoid Function(시그모이드 함수)**\n",
    "\n",
    "- 선형인 멀티퍼셉트론에서 비선형 값을 얻기 위해 사용하기 시작\n",
    "\n",
    "$$\n",
    "\\sigma(x) = \\frac{1}{1 + exp(-x)}\n",
    "$$\n",
    "\n",
    "$$\n",
    "\\sigma'(x) = \\sigma(x)(1 - \\sigma(x))\n",
    "$$"
   ]
  },
  {
   "cell_type": "code",
   "execution_count": 21,
   "metadata": {},
   "outputs": [
    {
     "data": {
      "text/plain": [
       "<Figure size 640x480 with 1 Axes>"
      ]
     },
     "metadata": {},
     "output_type": "display_data"
    }
   ],
   "source": [
    "def sigmoid(x):\n",
    "    a = []\n",
    "    for item in x:\n",
    "        a.append(1/(1+np.exp(-item)))\n",
    "    return a\n",
    "\n",
    "import matplotlib.pyplot as plt\n",
    "\n",
    "plt.rcParams['axes.grid'] = True \n",
    "\n",
    "x = np.arange(-10., 10., 0.2)\n",
    "sig = sigmoid(x)\n",
    "\n",
    "plt.plot(x,sig)\n",
    "plt.ylabel('sigmoid(x)', fontsize = 15)\n",
    "plt.xlabel('x', fontsize = 15)\n",
    "plt.title(\"Sigmoid Function\", fontsize = 20)\n",
    "plt.show()"
   ]
  },
  {
   "cell_type": "markdown",
   "metadata": {},
   "source": [
    "> **sigmoid에 대해 특징**\n",
    "\n",
    "- 우선 함수값이 `(0, 1)`로 제한된다.\n",
    "- 중간 값은 `0.5` 이다.\n",
    "- 매우 큰 값을 가지면 함수값은 거의 `1`이며, 매우 작은 값을 가지면 거의 `0`이다."
   ]
  },
  {
   "cell_type": "code",
   "execution_count": 22,
   "metadata": {},
   "outputs": [],
   "source": [
    "def derivatived_sigmoid(x):\n",
    "    a = []\n",
    "    for item in x:\n",
    "        a.append((1/(1+np.exp(item)))*(1 - (1/(1+np.exp(item)))))\n",
    "    return a"
   ]
  },
  {
   "cell_type": "code",
   "execution_count": 23,
   "metadata": {},
   "outputs": [
    {
     "data": {
      "image/png": "[encoded data removed]",
      "text/plain": [
       "<Figure size 432x288 with 1 Axes>"
      ]
     },
     "metadata": {
      "needs_background": "light"
     },
     "output_type": "display_data"
    }
   ],
   "source": [
    "plt.rcParams['axes.grid'] = True \n",
    "\n",
    "x = np.arange(-10., 10., 0.2)\n",
    "de_sig = derivatived_sigmoid(x)\n",
    "\n",
    "plt.plot(x,de_sig)\n",
    "plt.ylabel('dy/dx', fontsize = 15)\n",
    "plt.ylim(0, 1)\n",
    "plt.xlabel('x', fontsize = 15)\n",
    "plt.title(\"Sigmoid Function (Derivative)\", fontsize = 20)\n",
    "plt.show()"
   ]
  },
  {
   "cell_type": "markdown",
   "metadata": {},
   "source": [
    "[참고 : 딥러닝에서 사용하는 활성화 함수](https://reniew.github.io/12/)"
   ]
  },
  {
   "cell_type": "code",
   "execution_count": 24,
   "metadata": {},
   "outputs": [],
   "source": [
    "def sigmoid(x):\n",
    "    return 1/(1+np.exp(-x))"
   ]
  },
  {
   "cell_type": "code",
   "execution_count": 25,
   "metadata": {},
   "outputs": [
    {
     "data": {
      "text/plain": [
       "array([[-1.51083633, -2.31227971, -1.59917014,  0.23851742],\n",
       "       [-2.10549557, -1.59848846,  1.16608944,  0.73661629],\n",
       "       [-1.90833199, -1.23673174,  1.52831829, -0.09450745],\n",
       "       [-1.9760136 , -1.72377551,  0.62838859,  0.59462265],\n",
       "       [-2.00743946, -1.3844289 ,  1.41922169,  0.28526993],\n",
       "       [-1.90011436, -2.13670027, -0.41241813,  0.88919855],\n",
       "       [-2.10208771, -0.35104239,  3.82529583, -0.65906186],\n",
       "       [-1.92365181, -1.74425512,  0.47546488,  0.50360777],\n",
       "       [-2.21538914, -0.91589507,  2.85415257,  0.21581413],\n",
       "       [-2.18828912, -0.64625428,  3.37399581, -0.14316756]])"
      ]
     },
     "execution_count": 25,
     "metadata": {},
     "output_type": "execute_result"
    }
   ],
   "source": [
    "# 선형 변환\n",
    "h"
   ]
  },
  {
   "cell_type": "code",
   "execution_count": 26,
   "metadata": {},
   "outputs": [
    {
     "data": {
      "text/plain": [
       "array([[0.18081488, 0.09011105, 0.16809763, 0.55934826],\n",
       "       [0.10856383, 0.16819298, 0.76243744, 0.67625549],\n",
       "       [0.12916836, 0.22500539, 0.82176013, 0.47639071],\n",
       "       [0.12174443, 0.15138549, 0.65212399, 0.64442509],\n",
       "       [0.11842404, 0.20029864, 0.80521637, 0.57083774],\n",
       "       [0.13009553, 0.10558059, 0.39833244, 0.70872475],\n",
       "       [0.10889407, 0.41312967, 0.97865362, 0.34095038],\n",
       "       [0.12745489, 0.14877326, 0.6166764 , 0.62330679],\n",
       "       [0.09837703, 0.28579504, 0.94553294, 0.55374509],\n",
       "       [0.10080707, 0.34383412, 0.96688188, 0.46426912]])"
      ]
     },
     "execution_count": 26,
     "metadata": {},
     "output_type": "execute_result"
    }
   ],
   "source": [
    "# 선형 변환 + 비선형 변환\n",
    "a = sigmoid(h)\n",
    "a"
   ]
  },
  {
   "cell_type": "code",
   "execution_count": 27,
   "metadata": {},
   "outputs": [],
   "source": [
    "import numpy as np\n",
    "\n",
    "def sigmoid(x):\n",
    "    return 1/(1+np.exp(-x))\n",
    "\n",
    "x = np.random.randn(10, 2)\n",
    "W1 = np.random.randn(2, 4)\n",
    "b1 = np.random.randn(4)\n",
    "W2 = np.random.randn(4, 3)\n",
    "b2 = np.random.randn(3)\n",
    "\n",
    "h = np.matmul(x, W1) + b1\n",
    "a = sigmoid(h)\n",
    "s = np.matmul(a, W2)  + b2"
   ]
  },
  {
   "cell_type": "code",
   "execution_count": 28,
   "metadata": {},
   "outputs": [
    {
     "data": {
      "text/plain": [
       "array([[-0.84429139,  1.25276599, -0.72092682],\n",
       "       [-0.85034935,  1.19020201, -1.24687768],\n",
       "       [-0.84059147,  1.29942544, -0.05638935],\n",
       "       [-0.72420827,  1.31535007, -0.31893506],\n",
       "       [-0.73133369,  1.25790887, -0.80437255],\n",
       "       [-0.87159738,  1.23631337, -0.25397658],\n",
       "       [-0.90172214,  0.87956386, -1.37314502],\n",
       "       [-0.739568  ,  1.25682352, -1.13009004],\n",
       "       [-0.83243275,  1.31620571, -0.23710514],\n",
       "       [-0.84574632,  1.01431659, -1.58233326]])"
      ]
     },
     "execution_count": 28,
     "metadata": {},
     "output_type": "execute_result"
    }
   ],
   "source": [
    "s"
   ]
  },
  {
   "cell_type": "markdown",
   "metadata": {},
   "source": [
    "10개의 입력데이터를 은닉층을 통해 계산된 결과를 보면 3차원 데이터를 출력. 각 차원의 값을 이용하여 3 클래스 분류 가능. 각 차원은 각 클래스에 대응하는 '점수(Score)'가 된다. 실제로 분류를 한다면 출력층에서 가장 큰 값을 내뱉는 뉴런에 해당하는 클래스가 예측 결과이다."
   ]
  },
  {
   "cell_type": "markdown",
   "metadata": {},
   "source": [
    "**점수** : '확률'이 되기 전의 값, 이를 확률로 나타내기 위해 **소프트맥스 함수** 사용\n",
    "\n",
    "### Softmax 함수"
   ]
  },
  {
   "cell_type": "markdown",
   "metadata": {},
   "source": [
    "$$\n",
    "f(x_i) = \\frac{\\exp(x_i)}{\\sum _{k=1} ^ K \\exp{x_k}}, \\quad \\text{for i = 1, ... , K}\n",
    "$$"
   ]
  },
  {
   "cell_type": "markdown",
   "metadata": {},
   "source": [
    "### 1.2.2 계층으로 클래스화 및 순전파 구현"
   ]
  },
  {
   "cell_type": "code",
   "execution_count": 29,
   "metadata": {},
   "outputs": [],
   "source": [
    "import numpy as np\n",
    "\n",
    "class Sigmoid:\n",
    "    def __init__(self):\n",
    "        self.params = []\n",
    "        \n",
    "    def forward(self, x):\n",
    "        return 1/(1+np.exp(-x))"
   ]
  },
  {
   "cell_type": "code",
   "execution_count": 30,
   "metadata": {},
   "outputs": [],
   "source": [
    "class Affine:\n",
    "    def __init__(self, W, b):\n",
    "        self.params = [W, b]\n",
    "        \n",
    "    def forward(self, x):\n",
    "        W, b = self.params\n",
    "        out = np.matmul(x, W) + b\n",
    "        return out"
   ]
  },
  {
   "cell_type": "markdown",
   "metadata": {},
   "source": [
    "> **그림 1-11** : 구현해볼 신경망의 계층 구성\n"
   ]
  },
  {
   "cell_type": "code",
   "execution_count": 31,
   "metadata": {},
   "outputs": [],
   "source": [
    "class TwoLayerNet:\n",
    "    def __init__(self, input_size, hidden_size, output_sizes):\n",
    "        I, H, O = input_size, hidden_size, output_sizes\n",
    "    \n",
    "        # 가중치 편향 초기화\n",
    "        W1 =  np.random.randn(I, H)\n",
    "        b1 =  np.random.randn(H)\n",
    "        W2 = np.random.randn(H, O)\n",
    "        b2 = np.random.randn(O)\n",
    "\n",
    "        # 계층 생성\n",
    "        self.layers = [\n",
    "            Affine(W1, b1),\n",
    "            Sigmoid(),\n",
    "            Affine(W2, b2)\n",
    "        ]\n",
    "\n",
    "        # 모든 가중치를 리스트에 모은다.\n",
    "        self.params = []\n",
    "        for layer in self.layers:\n",
    "            self.params += layer.params\n",
    "        \n",
    "    \n",
    "    def predict(self, x):\n",
    "        for layer in self.layers:\n",
    "            x = layer.forward(x)\n",
    "        return x"
   ]
  },
  {
   "cell_type": "markdown",
   "metadata": {},
   "source": [
    "### 1.3.1 손실 함수"
   ]
  },
  {
   "cell_type": "markdown",
   "metadata": {},
   "source": [
    "**multi-class classification (다중 클래스 분류) 신경망인 경우** : **Cross Entropy Error**"
   ]
  },
  {
   "cell_type": "markdown",
   "metadata": {},
   "source": [
    "### 손실 함수의 입력값 \n",
    "\n",
    "**확률($y_k$)**과 **정답 레이블($t_k$)** 이 입력으로 들어간다.\n",
    "\n",
    "- **Softmax 함수** (확률)\n",
    "$$\n",
    "y_k = \\frac{exp(s_k)}{\\sum_{i=1} ^{n} exp(s_i)} \\qquad , \\quad 0 \\le y_k \\le 1\n",
    "$$\n",
    "\n",
    "\n",
    "\n",
    "\n",
    "- **정답 레이블** (one-hot encoding)\n",
    "$$\n",
    "t_k \\qquad e.g. :  [0 ,0 ,1] \\quad \\text{세 번째 레이블이 정답인 경우}\n",
    "$$"
   ]
  },
  {
   "cell_type": "markdown",
   "metadata": {},
   "source": [
    "### Cross Entropy Error (교차 엔트로피 수식)\n",
    "\n",
    "- 입력데이터가 1개인 경우(차원 관계 무관)\n",
    "\n",
    "$$\n",
    "L = -\\sum_k t_k \\log y_k \\quad , \\quad t_k : k \\text{번째 클래스에 해당하는 정답 레이블}\n",
    "$$\n",
    "\n",
    "> e.g.    \n",
    "    $y_k$ = [0,2, 0.3, 0.5] , k = 1, 2, 3  \n",
    "    $t_k$ = [0, 0, 1] , k = 1, 2, 3  \n",
    "    $L$ = - (0 * log(0.2) + 0 * log(0.3) + 1 * log(0.5))"
   ]
  },
  {
   "cell_type": "markdown",
   "metadata": {},
   "source": [
    "- 입력데이터가 여러개인 경우(미니배치 처리 고려) : 평균을 구함으로써 미니 배치의 크기에 관계없이 항상 일관된  척도를 얻을 수 있음\n",
    "\n",
    "$$\n",
    "L = - \\frac{1}{N}\\sum_n \\sum_k t_{nk} \\log y_{nk} \\quad , \\quad t_{nk} : n \\text{번째 데이터의 k번째의 클래스에 해당하는 정답 레이블}\n",
    "$$"
   ]
  },
  {
   "cell_type": "markdown",
   "metadata": {},
   "source": [
    "> **그림 1-13** : Softmax with Loss 계층을 이용하여 손실을 출력"
   ]
  },
  {
   "cell_type": "markdown",
   "metadata": {},
   "source": [
    "### 1.3.2 미분과 기울기"
   ]
  },
  {
   "cell_type": "markdown",
   "metadata": {},
   "source": [
    "**신경망 학습의 목표** : **손실을 최소화하는 매개변수를 찾는 것**, **'미분'** 과 **'기울기'** 가 중요함"
   ]
  },
  {
   "cell_type": "markdown",
   "metadata": {},
   "source": [
    "$\\text{기울기}^{gradient}$ : 벡터의 각 원소에 대한 미분을 정리"
   ]
  },
  {
   "cell_type": "markdown",
   "metadata": {},
   "source": [
    "- $L$ : 스칼라, $x$ : 벡터 인 함수 $L = f(x)$가 있다고 하자. ($x$의 $i$번째 원소인) $x_i$에 대한 $L$의 미분은 $\\frac{\\partial L}{\\partial x_i}$로 쓸 수 있다. 그리고 벡터 $x$의 다른 원소의 미분도 구할수 있고, 디를 다음과 같이 정리할 수 있다.\n",
    "\n",
    "$$\n",
    "\\frac{\\partial L}{\\partial \\mathbf{x}} = (\\frac{\\partial L}{\\partial x_1}, \\frac{\\partial L}{\\partial x_2}, ... , \\frac{\\partial L}{\\partial x_n}) \n",
    "$$"
   ]
  },
  {
   "cell_type": "markdown",
   "metadata": {},
   "source": [
    "벡터와 마찬가지로, 행렬에서도 기울기를 확장할 수 있다.\n",
    "- **W**가 $m \\times n$ 행렬이라면, $L = g(W)$ 함수의 기울기는 다음과 같이 쓸 수 있다.\n",
    "\n",
    "$$\n",
    "\\frac{\\partial L}{\\partial \\mathbf{W}} = \\begin{pmatrix}\n",
    "    \\frac{\\partial L}{\\partial W_{11}} & \\cdots & \\frac{\\partial L}{\\partial W_{1n}} \\\\\n",
    "    \\vdots & \\ddots &  \\\\\n",
    "    \\frac{\\partial L}{\\partial W_{m1}} & \\cdots & \\frac{\\partial L}{\\partial W_{mn}} \\\\\n",
    "    \\end{pmatrix}\n",
    "$$"
   ]
  },
  {
   "cell_type": "markdown",
   "metadata": {},
   "source": [
    "**중요한 점**\n",
    "- **W** 와 $\\frac{\\partial L}{\\partial W}$ 의 형상이 같다.\n",
    "- 위의 내용('행렬과 그 기울기의 형상이 같다')라는 성질을 이용하면 매개변수 갱신과 연쇄 법칙을 쉽게 구현할 수 있다."
   ]
  },
  {
   "cell_type": "markdown",
   "metadata": {},
   "source": [
    "### 1.3.3 연쇄 법칙\n",
    "\n",
    "- 학습 시 신경망은 학습 데이터를 주면 손실을 출력\n",
    "- 여기서 필요한 것은 **각 매개변수에 대한 손실의 기울기** \n",
    "- 위의 기울기로 매개변수 갱신 가능\n",
    "\n",
    "> **오차역전파법 (Back-propagation) 등장!**\n",
    "\n",
    "이를 이해하려면 키는 연쇄법칙 Chain rule. 합성함수에 대한 미분의 법칙.."
   ]
  },
  {
   "cell_type": "markdown",
   "metadata": {},
   "source": [
    "- $y = f(x), z = g(y)$\n",
    "- $z = g(f(x))$\n",
    "- $z$는 두 함수를 조합해 계산할 수 있다. 이때 이 합성함수의 미분은 다음과 같이 구할 수 있다.\n",
    " \n",
    "$$\n",
    "\\frac{\\partial z}{\\partial x} = \\frac{\\partial z}{\\partial y} \\frac{\\partial y}{\\partial x}\n",
    "$$\n",
    "\n",
    "**중요한 점**\n",
    "- 함수가 아무리 복잡하더라도, 즉 아무리 많은 함수를 연결하더라도, 그 미분은 개별 함수의 미분들을 이용해 구할 수 있다.\n",
    "- 즉, 함수의 국소적인 미분을 계산할 수 있다면 그 값들을 곱해서 전체의 미분을 구할 수 있다."
   ]
  },
  {
   "cell_type": "markdown",
   "metadata": {},
   "source": [
    "### 1.3.4 계산 그래프\n",
    "\n",
    "예제에서는 값이 하나짜리 데이터만 예로 들었지만, 벡터나 행렬 또는 텐서 같은 다변수로 흘려도 문제 없다. **원소별 연산 수행**"
   ]
  },
  {
   "cell_type": "markdown",
   "metadata": {},
   "source": [
    "### (1) 덧셈 노드"
   ]
  },
  {
   "cell_type": "markdown",
   "metadata": {},
   "source": [
    "> **그림 1-15** : $z = x + y$ 계산 그래프  \n",
    "> \n",
    "> **중요한 점**\n",
    "- 기울기가 순전파와 반대 방향으로 전파된다는 사실\n",
    "\n",
    "\n",
    "\n",
    "> **그림 1-16** : 앞뒤로 추가된 노드는 '복잡한 전체 계산'의 일부를 구성\n",
    "- 앞뒤로도 '어떤 계산'이 있다고 가정하고, 최종적으로 스칼라 값인 $L$이 출력된다고 가정하자.\n",
    "- 우리 목표는 $L$의 미분(기울기)을 각 변수에 대해 구하는 것이다. 그러면 계산 그래프의 역전파는 $\\text{[그림 1-17]}$과 같이 그릴 수 있다.  \n",
    "\n",
    "> **그림 1-17** : 계산 그래프의 역전파\n",
    "> - $\\frac{\\partial L}{\\partial x} = \\frac{\\partial L}{\\partial z} \\frac{\\partial z}{\\partial x}$\n",
    "> - $\\frac{\\partial L}{\\partial y} = \\frac{\\partial L}{\\partial z} \\frac{\\partial z}{\\partial y}$\n",
    "\n",
    "> $z = x + y $의 덧셈 노드에서 이뤄지는 연산을 다루고 있다. (해석적으로 구할 수 있음)\n",
    "> - $\\frac{\\partial z}{\\partial x}$ = 1\n",
    "> - $\\frac{\\partial z}{\\partial y}$ = 1\n",
    "> - 위의 결과를 적용하면 덧셈 노드는 다음과 같이 상류로부터 받은 값이 1을 곱하여 하류로 기울기를 전파할 수 있음. 즉, 상류로부터의 기울기를 그대로 흘리기만 하면 된다."
   ]
  },
  {
   "cell_type": "markdown",
   "metadata": {},
   "source": [
    "### (2) 곱셈 노드"
   ]
  },
  {
   "cell_type": "markdown",
   "metadata": {},
   "source": [
    "> $z = x \\times y$ 계산 그래프  \n",
    "> \n",
    "> $z = x \\times y $의 곱셈 노드에서 이뤄지는 연산을 다루고 있다. (해석적으로 구할 수 있음)\n",
    "> - $\\frac{\\partial z}{\\partial x}$ = $y$\n",
    "> - $\\frac{\\partial z}{\\partial y}$ = $x$\n"
   ]
  },
  {
   "cell_type": "markdown",
   "metadata": {},
   "source": [
    "### (3) 분기 노드\n",
    "\n",
    "> **그림 1-20** : 분기 노드의 순전파(왼쪽)과 역전파(오른쪽)"
   ]
  },
  {
   "cell_type": "markdown",
   "metadata": {},
   "source": [
    "### (4) Repear 노드\n",
    "\n",
    "> - 2개로 분기하는 분기 노드를 일반화하면 $N$개로의 분기(복제)가 된다.  \n",
    ">\n",
    "> **그림 1-21**: Repear 노드의 순전파(위)와 역전파(아래)"
   ]
  },
  {
   "cell_type": "code",
   "execution_count": 90,
   "metadata": {},
   "outputs": [],
   "source": [
    "import numpy as np\n",
    "D, N = 8, 7\n",
    "x = np.random.randn(1, D)                   # 입력\n",
    "y = np.repeat(x, N, axis = 0)               # 순전파\n",
    "dx = np.random.randn(N, D)                  # 무작위 기울기\n",
    "dy = np.sum(dx, axis = 0, keepdims = True) # 역전파"
   ]
  },
  {
   "cell_type": "code",
   "execution_count": 95,
   "metadata": {},
   "outputs": [
    {
     "data": {
      "text/plain": [
       "array([[-1.26585791e-01,  6.14259664e-01, -1.64167690e-01,\n",
       "        -2.34340654e-01,  1.48736351e-01,  3.33345289e-01,\n",
       "         2.68771484e-03,  2.46753517e-01],\n",
       "       [ 8.07637124e-01,  2.99918048e-01,  2.53691371e-01,\n",
       "        -2.24665567e+00,  2.94928127e+00, -3.78179800e-01,\n",
       "         1.92887641e+00, -4.11252852e-01],\n",
       "       [-1.56480189e+00, -5.00529562e-01, -1.59037391e+00,\n",
       "        -1.14901217e+00, -9.69772541e-01, -4.60027012e-02,\n",
       "         3.11148610e-02,  4.49811616e-01],\n",
       "       [-2.34613775e-02, -4.48278400e-01,  1.75734142e-01,\n",
       "        -2.82737722e-01,  1.70139903e+00, -3.25142355e-01,\n",
       "         6.72336775e-01,  5.23494222e-01],\n",
       "       [-6.85503523e-01, -1.55697839e+00,  5.22074266e-01,\n",
       "         4.02807508e-01, -5.07283893e-01,  8.51664167e-01,\n",
       "         5.47243359e-01, -1.41085459e-03],\n",
       "       [-8.89761754e-01, -7.11961162e-01,  1.14634745e+00,\n",
       "        -2.15870188e+00, -4.60368331e-02, -5.02190051e-01,\n",
       "        -3.64127054e-01,  3.11587233e-01],\n",
       "       [-1.45223875e+00,  2.61173134e-02, -5.32199883e-01,\n",
       "        -3.07593380e+00, -4.26452780e-02,  6.42087923e-02,\n",
       "        -1.47395855e+00, -1.32457211e-01]])"
      ]
     },
     "execution_count": 95,
     "metadata": {},
     "output_type": "execute_result"
    }
   ],
   "source": [
    "dx"
   ]
  },
  {
   "cell_type": "code",
   "execution_count": 98,
   "metadata": {},
   "outputs": [
    {
     "data": {
      "text/plain": [
       "array([[-3.93471597e+00, -2.27745249e+00, -1.88894253e-01,\n",
       "        -8.74457438e+00,  3.23367810e+00, -2.29665791e-03,\n",
       "         1.34417352e+00,  9.86525671e-01]])"
      ]
     },
     "execution_count": 98,
     "metadata": {},
     "output_type": "execute_result"
    }
   ],
   "source": [
    "dy"
   ]
  }
 ],
 "metadata": {
  "kernelspec": {
   "display_name": "Python 3",
   "language": "python",
   "name": "python3"
  },
  "language_info": {
   "codemirror_mode": {
    "name": "ipython",
    "version": 3
   },
   "file_extension": ".py",
   "mimetype": "text/x-python",
   "name": "python",
   "nbconvert_exporter": "python",
   "pygments_lexer": "ipython3",
   "version": "3.6.4"
  }
 },
 "nbformat": 4,
 "nbformat_minor": 2
}
