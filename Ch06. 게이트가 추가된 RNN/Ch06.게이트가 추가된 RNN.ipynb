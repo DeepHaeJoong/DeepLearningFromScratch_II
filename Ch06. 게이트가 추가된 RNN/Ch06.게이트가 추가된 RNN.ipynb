{
 "cells": [
  {
   "cell_type": "markdown",
   "metadata": {},
   "source": [
    "## Ch06. 게이트가 추가된 RNN\n",
    "\n",
    "5장에서 본 RNN은 순환 경로를 포함하며 과거의 정보를 기억할 수 있었다. 구조가 단순하여 구현이 쉬웠었다. 하지만 안타깝게도 성능이 좋지 못했다. 그 원인은 시계열 데이터에서 시간적으로 멀리 떨어진, 장기(long term)의존 관계를 잘 학습할 수 없기 때문이다.\n",
    "\n",
    "위의 문제점을 해결하고자 게이트가 추가된 모델이 등장\n",
    "\n",
    "- LSTM (Ch06)\n",
    "- GRU"
   ]
  },
  {
   "cell_type": "markdown",
   "metadata": {},
   "source": [
    "## 6.1 RNN의 문제점\n",
    "\n",
    "시계열 데이터의 장기 의존 관계를 학습하기 어렵다. 그 원인은 **BPTT**에서 기울기 소실 혹은 기울기 폭발이 일어나기 때문이다. "
   ]
  },
  {
   "cell_type": "markdown",
   "metadata": {},
   "source": [
    "## 6.1.1 RNN 복습"
   ]
  },
  {
   "cell_type": "markdown",
   "metadata": {},
   "source": [
    "**[그림 6-1] RNN 계층의 순환 구조 펼치기 전/후**\n",
    "\n",
    "<img src=\"https://github.com/DeepHaeJoong/DeepLearningFromScratch_II/blob/master/PNG/Figure%205-8.PNG?raw=true\" width=\"800\">\n",
    "\n",
    "$\\mathbf{x}_{t}$를 입력하면 $\\mathbf{h}_{t}$를 출력, 이 $\\mathbf{h}_{t}$는 RNN 계층의 **은닉 상태**라고 하고, 과거 정보를 저장한다.  \n",
    "이때 RNN 계층이 수행하는 처리를 계산 그래프로 나타내면 **[그림 6-2]**처럼 됩니다.\n",
    "\n",
    "**[그림 6-2] RNN 계층의 계산 그래프(MatMul 노드는 행렬 곱을 나타냄)**\n",
    "\n",
    "<img src=\"https://github.com/DeepHaeJoong/DeepLearningFromScratch_II/blob/master/PNG/Figure%205-19.PNG?raw=true\" width=\"400\">"
   ]
  },
  {
   "cell_type": "markdown",
   "metadata": {},
   "source": [
    "이상이 앞 장에서 본 RNN 계층이다. 이어서 이 RNN 계층이 안고 있는 문제, 즉 장기 기억에 취약하다는 문제를 살펴보자."
   ]
  },
  {
   "cell_type": "markdown",
   "metadata": {},
   "source": [
    "## 6.1.2 기울기 소실 또는 기울기 폭발\n",
    "\n",
    "언어 모델은 주어진 단어들을 기초로 다음에 출현할 단어를 예측하는 일을 한다. 앞 장에서는 RNN을 사용해 언어 모델을 구현했었다.(RNNLM). 이번 절에서는 RNNLM의 단점을 확인하는 차원에서 **[그림 6-3]**의 문제를 다시 한번 생각해보자.\n",
    "\n",
    "**[그림 6-3]** \"?\"에 들어갈 단어는 무엇일까? (긴 맥락이 필요한 문제의 예)\n",
    "\n",
    "<img src=\"https://github.com/DeepHaeJoong/DeepLearningFromScratch_II/blob/master/PNG/Figure%205-4.PNG?raw=true\" width=\"800\">"
   ]
  },
  {
   "cell_type": "markdown",
   "metadata": {},
   "source": [
    "위에서 **` \"?\"`**에 들어가는 단어는 \"Tom\"이다. RNNLM이 이 문제에 올바르게 답하려면, 현재 맥락에서 \"Tom이 방에서 Tv를 보고 있음\"과 \"그 방에 Mary가 들어옴\"이란 정보를 기억해야 한다. 다시 말해 이런 정보를 RNN 계층의 은닉 상태에 인코딩해 보관해둬야 한다."
   ]
  },
  {
   "cell_type": "markdown",
   "metadata": {},
   "source": [
    "**[그림 6-4]** 정답 레이블이 \"Tom\"임을 학습할 때의 기울기 흐름\n",
    "\n",
    "<img src=\"https://github.com/DeepHaeJoong/DeepLearningFromScratch_II/blob/master/PNG/Figure%206-4.PNG?raw=true\" width=\"600\">\n",
    "위 그림과 같이 정답 레이블이 \"Tom\"임을 학습할 때 중요한 것이 바로 RNN계층의 존재이다. 붉은색 전파하는 부분의 기울기는 RNN 계층이 과거 방향으로 \"의미 있는 기울기\"를 전달함으로써 시간 방향의 의존 관계를 학습할 수 있는 것이다. 이때 기울기는 (원래대로라면) 학습해야 할 의미가 있는 정보가 들어 있고, 그것을 과거로 전달함으로써 장기 의존 관계를 학습한다. 하지만 만약 이 기울기가 중간에 사그라들면(거의 아무런 정보도 남지 않게 되면) 가중치 매개변수는 전혀 갱신되지 않게 된다. 즉, 장기 의존 관계를 학습할 수 없게 된다. 안타깝지만, 현재의 단순한 RNN 계층에서는 시간을 거슬려 올라갈수록 기울기가 작아지거나(기울기 소실) 혹은 커질 수 있으며(기울기 폭발). 대부분 둘 중 하나의 운명을 걷게 된다."
   ]
  },
  {
   "cell_type": "markdown",
   "metadata": {},
   "source": [
    "## 6.1.3 기울기 소실과 기울기 폭발의 원인"
   ]
  },
  {
   "cell_type": "markdown",
   "metadata": {},
   "source": [
    "기울기 폭발의 원인을 살펴보자."
   ]
  },
  {
   "cell_type": "markdown",
   "metadata": {},
   "source": [
    "앞의 문제에 대립하면 **\"T\"**번째 정답 레이블이 **\"Tom\"**인 경우에 해당한다.이때 시간 방향 기울기에 주목하면 역전파로 전해지는 기울기 는 차례로 다음과 같다.\n",
    "\n",
    "**tanh** $\\rightarrow$ **+** $\\rightarrow$ **\"MatMul(행렬 곱)\"** 연산을 통과한다는 것을 알 수 있다.\n",
    "\n",
    "- **+** : 역전파는 상류에서 전해지는 기울기를 그대로 통과(기울기 변화 X)\n",
    "- **tanh** : 기울기 변화(O)\n",
    "- **\"MatMul(행렬 곱)\"** : 기울기 변화(O)\n",
    "\n",
    "기울기 변화가 있는 **tanh** 와 **\"MatMul(행렬 곱)\"**항목이 왜 변화하는지 알아보자."
   ]
  },
  {
   "cell_type": "markdown",
   "metadata": {},
   "source": [
    "**[그림 6-6]** $y = \\text{tanh}(x)$의 그래프(아래는 미분)"
   ]
  },
  {
   "cell_type": "markdown",
   "metadata": {},
   "source": [
    "<img src=\"https://mlnotebook.github.io/img/transferFunctions/tanh.png\" width=\"400\">\n",
    "<img src=\"https://mlnotebook.github.io/img/transferFunctions/dtanh.png\" width=\"400\">"
   ]
  },
  {
   "cell_type": "markdown",
   "metadata": {},
   "source": [
    "아래 미분 그래프를 자세히 살펴보면, 0을 제외한 모든 값이 1.0 이하이고, $x$가 0으로부터 멀어질수록 작아진다. 즉, 역전파에서는 기울기가 **tanh** 노드를 지날때 마다 값은 계속 작아진다는 뜻이다. 그래서 **tanh** 함수를 $T$번 통과하면 기울기도 $T$번 반복해서 작아지게 된다."
   ]
  },
  {
   "cell_type": "markdown",
   "metadata": {},
   "source": [
    "> **NOTE**  \n",
    "> RNN 계층의 활성화 함수로는 주로 **tanh** 함수를 사용하는데, 이를 **ReLU (max(0,x))**로 바꾸면 기울기 소실을 줄일 수 있다. 그 이유는 **ReLU**는 입력 $x$가 0이상이면, 역전파 시 상류의 기울기를 그대로 하류에 흘려보내기 때문이다. 즉, 기울기가 작아지지 않느다. 실제로 다른 논문에서도 **ReLU**를 사용하여 성능을 개선한 사례가 있다."
   ]
  },
  {
   "cell_type": "markdown",
   "metadata": {},
   "source": [
    "**[그림 6-7]** RNN 계층의 행렬 곱에만 주목했을 때의 역전파의 기울기\n",
    "\n",
    "<img src=\"https://github.com/DeepHaeJoong/DeepLearningFromScratch_II/blob/master/PNG/Figure%206-7.PNG?raw=true\" width=\"800\">"
   ]
  },
  {
   "cell_type": "markdown",
   "metadata": {},
   "source": [
    "**[그림 6-7]**은 상류로부터 **dh**라는 기울기가 흘러온다고 가정한다. 이때 **MatMul** 노드에서의 역전파는 **dh$\\mathbf{W}^{T}_{h}$**라는 행렬 곱으로 기울기를 계산한다. 그리고 같은 계산을 시계열 데이터의 시간 크기만큼 반복한다. 여기에서 주목할 점은 이 행렬 곱셈에서는 매번 족같은 가중치인 $\\mathbf{W}_{h}$가 사용된다는 것이다."
   ]
  },
  {
   "cell_type": "markdown",
   "metadata": {},
   "source": [
    "그러면 역전파 시 기울기는 **MatMul** 노드를 지날 때마다 어떻게 변하게 될까요? 직접 실험해보는 게 최고! 아래 코드를 실행해 기울기의 크기 변화를 관찰해보자."
   ]
  },
  {
   "cell_type": "code",
   "execution_count": 23,
   "metadata": {},
   "outputs": [
    {
     "data": {
      "image/png": "[encoded data removed]",
      "text/plain": [
       "<matplotlib.figure.Figure at 0x279ab876240>"
      ]
     },
     "metadata": {},
     "output_type": "display_data"
    }
   ],
   "source": [
    "import numpy as np\n",
    "import matplotlib.pyplot as plt\n",
    "\n",
    "N = 2 # 미니배치 크기\n",
    "H = 3 # 은닉 상태 벡터의 차원 수\n",
    "T = 20 # 시계열 데이터의 길이\n",
    "\n",
    "dh = np.ones((N, H)) \n",
    "np.random.seed(3)  # 재현할 수 있도록 난수의 시드 고정\n",
    "Wh = np.random.randn(H, H)\n",
    "\n",
    "norm_list = []\n",
    "for t in range(T):\n",
    "    dh = np.matmul(dh, Wh.T)\n",
    "    norm = np.sqrt(np.sum(dh**2)) / N\n",
    "    norm_list.append(norm)\n",
    "    \n",
    "    \n",
    "plt.plot(range(1, T+1), norm_list,)\n",
    "plt.xticks(range(1, T+1))\n",
    "plt.xlabel('time step')\n",
    "plt.ylabel('norm')\n",
    "plt.title('[Figure 6-8] The slope \"dh\" exponentially increases in proportion to the time magnitude.')\n",
    "plt.show()"
   ]
  },
  {
   "cell_type": "markdown",
   "metadata": {},
   "source": [
    "위 그림을 보면 기울기의 크기는 시간에 비례해 지수적으로 증가함을 알 수 있었다. 이것이 **기울기 폭발**이다. 이러한 기울기 폭발이 일어나면 결국 오버플로를 일으켜 **NaN**같은 값을 발생시킨다. 따라서 신경망 학습을 제대로 수해할 수 없게 된다.\n",
    "\n",
    "그러면 **Wh**의 초깃값을 다음과 같이 변경한 후 두 번째 실험을 해보자."
   ]
  },
  {
   "cell_type": "code",
   "execution_count": 24,
   "metadata": {},
   "outputs": [
    {
     "data": {
      "image/png": "[encoded data removed]",
      "text/plain": [
       "<matplotlib.figure.Figure at 0x279ac66fc88>"
      ]
     },
     "metadata": {},
     "output_type": "display_data"
    }
   ],
   "source": [
    "import numpy as np\n",
    "import matplotlib.pyplot as plt\n",
    "\n",
    "N = 2 # 미니배치 크기\n",
    "H = 3 # 은닉 상태 벡터의 차원 수\n",
    "T = 20 # 시계열 데이터의 길이\n",
    "\n",
    "dh = np.ones((N, H)) \n",
    "np.random.seed(3)  # 재현할 수 있도록 난수의 시드 고정\n",
    "# Wh = np.random.randn(H, H) # 변경 전\n",
    "Wh = np.random.randn(H, H) * 0.5 # 변경 후\n",
    "\n",
    "norm_list = []\n",
    "for t in range(T):\n",
    "    dh = np.matmul(dh, Wh.T)\n",
    "    norm = np.sqrt(np.sum(dh**2)) / N\n",
    "    norm_list.append(norm)\n",
    "    \n",
    "    \n",
    "plt.plot(range(1, T+1), norm_list,)\n",
    "plt.xticks(range(1, T+1))\n",
    "plt.xlabel('time step')\n",
    "plt.ylabel('norm')\n",
    "plt.title('[Figure 6-9] The slope \"dh\" exponentially decrease in proportion to the time magnitude.')\n",
    "plt.show()"
   ]
  },
  {
   "cell_type": "markdown",
   "metadata": {},
   "source": [
    "위 그림을 보면, 이번에는 기울기가 지수적으로 감소함을 확인할 수 있다. 이것이 **기울기 소실(vanishing gradient)**이다. 기울기 소실이 일어나면 기울기가 매우 빠르게 작아진다. 그리고 기울기가 일정 수준 이하로 작아지면 가중치 매개변수가 더 이상 갱신되지 않으므로, 장기 의존 관계를 학습할 수 없게 된다."
   ]
  },
  {
   "cell_type": "markdown",
   "metadata": {},
   "source": [
    "지금까지의 실험에서 기울기의 크기는 지수적으로 증가하거나 감소했었다. 왜 이런 지수적 변화가 일어날까?  \n",
    "물론 행렬 **Wh**를 **T**번 반복해서 **\"곱\"**했기 때문이다. 만약 **Wh**가 스칼라면 이야기는 단순해지는데, **Wh**가 1보다 크면 지수적으로 증가하고, 1보다 작으면 지수적으로 감소한다.\n",
    "\n",
    "그럼 **Wh**가 스칼라가 아니라 행렬이라면 어떨까?\n",
    "\n",
    "행렬의 **\"특잇값\"**이 척도가 된다. 행렬의 특잇값이란? 단단히 말해서 데이터가 얼마나 펴져 있는 정보를 나타낸다. 이 특잇값의 값(더 정확하게는 여러 특잇값 중 최댓값)이 1보다 큰지 여부를 보면 기울기가 어떻게 변할지 예측할 수 있다."
   ]
  },
  {
   "cell_type": "markdown",
   "metadata": {},
   "source": [
    "### 6.1.4 기울기 폭발 대책\n",
    "\n",
    "**6.1.3**에서 문제가 되는 기울기 폭발과 기울기 소실을 살펴왔었다. 그럼 계속해서, 그 해결책을 알아보자.\n",
    "\n",
    "**기울기 폭발**\n",
    "\n",
    "- 전통적인 기법 : 기울기 클리핑 **gradients clipping** 기법(알고리즘 의사 코드에 사용)\n",
    "\n",
    "$$\n",
    "\\text{if  } || \\hat{x} || \\geq thresholds:  \n",
    "$$\n",
    "\n",
    "$$\n",
    "\\hat{g} = \\frac{thresholds}{|| \\hat{g} || }\\hat{g}\n",
    "$$\n",
    "\n",
    "- 위의 전통적인 기법을 코드로 구현해보자."
   ]
  },
  {
   "cell_type": "code",
   "execution_count": 5,
   "metadata": {},
   "outputs": [],
   "source": [
    "import numpy as np\n",
    "\n",
    "dW1 = np.random.rand(3, 3) * 10\n",
    "dW2 = np.random.rand(3, 3) * 10\n",
    "\n",
    "grads = [dW1, dW2]\n",
    "\n",
    "max_norm = 5.0\n",
    "\n",
    "def clip_grads(grads, max_norm):\n",
    "    total_norm = 0\n",
    "    for grad in grads:\n",
    "        total_norm += np.sum(grad**2)\n",
    "    total_norm = np.sqrt(total_norm)\n",
    "    \n",
    "    rate = max_norm / (total_norm + 1e-6)\n",
    "    \n",
    "    if rate < 1 :\n",
    "        for grad in grads:\n",
    "            grad *= rate"
   ]
  },
  {
   "cell_type": "code",
   "execution_count": 7,
   "metadata": {},
   "outputs": [],
   "source": [
    "clip_grads(grads, max_norm)"
   ]
  },
  {
   "cell_type": "code",
   "execution_count": 8,
   "metadata": {},
   "outputs": [
    {
     "data": {
      "text/plain": [
       "[array([[1.88801234, 0.17630508, 1.80959951],\n",
       "        [0.4691619 , 1.91194518, 0.16927365],\n",
       "        [0.50214747, 1.19531552, 1.26481046]]),\n",
       " array([[1.37914342, 1.31705424, 0.39731934],\n",
       "        [0.73979184, 1.66934658, 0.73182777],\n",
       "        [1.50171514, 1.01240877, 0.02152103]])]"
      ]
     },
     "execution_count": 8,
     "metadata": {},
     "output_type": "execute_result"
    }
   ],
   "source": [
    "grads"
   ]
  },
  {
   "cell_type": "markdown",
   "metadata": {},
   "source": [
    "앞으로 자주 이용하게될 함수이므로 common/utils.py에 구현하였으니 사용"
   ]
  },
  {
   "cell_type": "markdown",
   "metadata": {},
   "source": [
    "## 6.2 기울기 소실과 LSTM"
   ]
  },
  {
   "cell_type": "markdown",
   "metadata": {},
   "source": [
    "RNN 학습에서는 기울기 소실도 큰 문제이다. 그리고 이 문제를 해결하려면 RNN 계층의 구조를 근본부터 뜯어고쳐야 한다. 여기서 등장하는 것이, 이번 장의 핵심 주제인 '게이트'가 추가된 RNN 입니다. \n",
    "\n",
    "대표적으로 게이트가 추가된 RNN 두 종류\n",
    "\n",
    "- LStM\n",
    "- GRU\n",
    "\n",
    "이번 절에서는 LSTM에 집중하여 그 구조를 차분히 살펴보면서 LSTM이 기울기 소실을 일으키지 않는다는(혹은 일으키기 어렵게 한다는) 사실을 밝히고 있다. "
   ]
  },
  {
   "cell_type": "markdown",
   "metadata": {},
   "source": [
    "## 6.2.1 LSTM의 인터페이스"
   ]
  },
  {
   "cell_type": "markdown",
   "metadata": {},
   "source": [
    "**[그림 6-10] 단순화한 도법을 적용한 RNN 계층 : 이번 절에서는 가독성을 고려하여 단순화한 도법을 사용한다.**\n",
    "\n",
    "<img src=\"https://github.com/DeepHaeJoong/DeepLearningFromScratch_II/blob/master/PNG/Figure%206-10.PNG?raw=true\" width=\"800\">"
   ]
  },
  {
   "cell_type": "markdown",
   "metadata": {},
   "source": [
    "$$\n",
    "\\mathbf{h}_t = \\text{tanh}(\\mathbf{h}_{t-1}\\mathbf{W}_{h} + \\mathbf{x}_{t}\\mathbf{W}_{x} + \\mathbf{b})\n",
    "$$\n",
    "\n",
    "위 계산을 **tanh**라는 직사각형 노드 하나로 그림. 이 직사각형 노드 안에 행렬 곱과 편향의 합, 그리고 **tanh** 함수에 의한 변환이 모두 포함된 것이다."
   ]
  },
  {
   "cell_type": "markdown",
   "metadata": {},
   "source": [
    "**[그림 6-11] RNN 계층과 LSTM 계층 비교**\n",
    "\n",
    "<img src=\"https://github.com/DeepHaeJoong/DeepLearningFromScratch_II/blob/master/PNG/Figure%206-11.PNG?raw=true\" width=\"800\">\n",
    "\n",
    "**c** 라는 경로가 존재\n",
    "\n",
    "- **c** : 기억 셀(memory cell)이라 하며, LSTM 전용의 기억 메커니즘이다. \n",
    "- 특징 : 데이터를 자기 자신으로만(LSTM 계층 내에서만) 주고 받는다는 것이다. 즉, LSTM 계층 내에서만 완결되고, 다른 계층으로는 출력하지 않는다. 반면, LSTM의 은닉상태 h는 RNN 계층과 마찬가지로 다른 계층으로(위쪽으로) 출력된다.\n",
    "\n",
    "> **NOTE**  \n",
    "> LSTM의 출력을 받는 쪽에서 보면 LSTM의 출력은 은닉 상태 **h**뿐이다. 기억 셀 **c**는 외부에서는 보이지 않는다. 그래서 그 존재 자체를 생각할 필요가 없다고 한다."
   ]
  },
  {
   "cell_type": "markdown",
   "metadata": {},
   "source": [
    "## 6.2.2 LSTM 계층 조립하기"
   ]
  },
  {
   "cell_type": "markdown",
   "metadata": {},
   "source": [
    "[Understaing LSTM Networks](https://colah.github.io/posts/2015-08-Understanding-LSTMs) 블로그 참고"
   ]
  },
  {
   "cell_type": "markdown",
   "metadata": {},
   "source": [
    "**[그림 6-12] 기억 셀 $c_t$를 바탕으로 은닉 상태 $h_t$를 계산하는 LSTM 계층**\n",
    "\n",
    "<img src=\"https://github.com/DeepHaeJoong/DeepLearningFromScratch_II/blob/master/PNG/Figure%206-12.PNG?raw=true\" width=\"400\">"
   ]
  },
  {
   "cell_type": "markdown",
   "metadata": {},
   "source": [
    "- 기억 셀 $c_t$는 시각 $t$에서의 LSTM의 기억이 저장돼 있는데, 과거로부터 시각 $t$까지에 필요한 모든 정보가 저장돼 있다고 가정(혹은 그렇게 되도록 학습을 수행), 그리고 필요한 정보를 간직한 이 기억을 바탕으로 외부 계층에 은닉 상태($h_t$)를 출력한다. 이 때 출력하는 $h_t$는 아래 그림과 같이 기억 셀의 값을 tanh 함수로 변환한 값이다.\n",
    "\n",
    "- $c_t$는 3개의 입력($c_{t-1}, h_{t-1}, x_{t}$)으로부터 \"어떤 계산\"을 수행하여 구할 수 있다. 핵심은 갱신된 $c_t$를 사용해 은닉 상태 $h_t$를 계산한다는 것이다. 또한 이 계산은 $h_t$ = tanh($c_t$)인데, 이는 $c_t$의 각 요소에 tanh 함수를 적용한다는 것이다."
   ]
  },
  {
   "cell_type": "markdown",
   "metadata": {},
   "source": [
    "> **NOTE**  \n",
    "> 기억 셀 $c_t$와 은닉 상태 $h_t$의 관계는 (여기까지의) $c_t$의 각 원소에 tanh 함수를 적용한 것일 뿐이다. 이 말이 뜻하는 바는 기억 셀 $c_t$와 은닉 상태 $h_t$의 원소 수는 같다는 것이다. 예컨대 기억 셀 $c_t$의 원소가 100개면 은닉 상태 $h_t$의 원소 수도 100개가 된다."
   ]
  },
  {
   "cell_type": "markdown",
   "metadata": {},
   "source": [
    "## 게이트란 무엇인가?"
   ]
  },
  {
   "cell_type": "markdown",
   "metadata": {},
   "source": [
    "- **데이테의 흐름을 제어함**\n",
    "\n",
    "**[그림 6-13] 비유하자면 게이트는 물의 흐름을 제어한다.**\n",
    "\n",
    "<img src=\"https://github.com/DeepHaeJoong/DeepLearningFromScratch_II/blob/master/PNG/Figure%206-13.PNG?raw=true\" width=\"400\">\n",
    "\n",
    "\"열기/닫기\"뿐 아니라, 어느 정도 열지를 조절할 수 있다. 다시 말해 다음 단계로 흘려보낼 물의 양을 제어한다. \"어느 정도\"를 \"열림 상태\"라 부르며, **[그림 6-14]**처럼 0.7(70%)이나 0.2(20%)처럼 제어 할 수 있다.\n",
    "\n",
    "**[그림 6-14] 물이 흐르는 양을 0.0 ~ 1.0 범위까지 제어한다.**\n",
    "\n",
    "<img src=\"https://github.com/DeepHaeJoong/DeepLearningFromScratch_II/blob/master/PNG/Figure%206-14.PNG?raw=true\" width=\"400\">\n",
    "\n",
    "\n",
    "**중요**\n",
    "**\"게이트를 얼마나 열까\"라는 것도 데이터로부터 (자동으로) 학습한다는 점입니다.**"
   ]
  },
  {
   "cell_type": "markdown",
   "metadata": {},
   "source": [
    "> **NOTE**  \n",
    "> 게이트는 게이트의 열림 상태를 제어하기 위해서 전용 가중치 매개변수를 이용하며, 이 가중치 매개변수는 학습 데이터로부터 갱신된다. 참고로, 게이트의 열림 상태를 구할 때는 시그모이드 함수를 사용하는데, 시그모이드 함수의 출력이 마침 0.0 ~ 1.0 사이의 실수이기 때문이다."
   ]
  },
  {
   "cell_type": "markdown",
   "metadata": {},
   "source": [
    "## 6.2.3 output 게이트"
   ]
  },
  {
   "cell_type": "markdown",
   "metadata": {},
   "source": [
    "은닉 상태 $h_t$는 기억 셀 $c_t$에 단순히 **tanh** 함수를 적용한다고 했다.  \n",
    "이번 절에서는 **tanh(**$c_t$**)**에 게이트를 적용하는 걸 생각하겠다.\n",
    "\n",
    "즉, **tanh(**$c_t$**)**의 각 원소에 대해 **\"그것이 다음 시각의 은닉 상태에 얼마나 중요한가\"**를 조정한다.\n",
    "\n",
    "한편, 이 게이트는 다음 은닉 상태 $h_t$의 출력을 담당하는 게이트이므로 **output 게이트(출력 게이트)**라고 합니다.\n",
    "\n",
    "ouput 게이트의 열림 상태(다음 몇 %만 흘려보낼까)는 입력 $x_t$와 이전 상태 $h_{t-1}$로 부터 구할 수 있다."
   ]
  },
  {
   "cell_type": "markdown",
   "metadata": {},
   "source": [
    "$$\n",
    "\\mathbf{o} = \\sigma(\\mathbf{x}_t \\mathbf{W}_{\\mathbf{x}}^{(o)} + \\mathbf{h}_{t-1}\\mathbf{W}_\\mathbf{h}^{(o)} + \\mathbf{b}^{(o)})\n",
    "$$"
   ]
  },
  {
   "cell_type": "markdown",
   "metadata": {},
   "source": [
    "**[그림 6-15] output 게이트 추가**"
   ]
  },
  {
   "cell_type": "code",
   "execution_count": null,
   "metadata": {},
   "outputs": [],
   "source": []
  },
  {
   "cell_type": "markdown",
   "metadata": {},
   "source": [
    "[그림 6-15]와 같은 output 게이트에서 수행하는 위의 식의 계산을 \"$\\sigma$\"로 표기하였다. \n",
    "\n",
    "그리고 $\\sigma$의 출력을 $\\mathbf{o}$라고 하면 $\\mathbf{h}_{t}$는 $\\mathbf{o}$와 **tanh(**$c_t$**)**의 곱으로 계산된다."
   ]
  },
  {
   "cell_type": "markdown",
   "metadata": {},
   "source": [
    "여기서 말하는, 곱은 **아마마르 곱**이며, 기호로 다음과 같이 나타낸다. \n",
    "\n",
    "$$\n",
    "\\mathbf{h}_{t} = \\mathbf{o} \\circ \\text{tanh}(c_t)\n",
    "$$\n",
    "\n",
    "이상이 LSTM의 output 게이트이다. \n",
    "\n",
    "이제 LSTM의 출력 부분은 완성되었다. 이어서 기억 셀 갱신 부분을 살펴보자."
   ]
  },
  {
   "cell_type": "markdown",
   "metadata": {},
   "source": [
    "> **Warning**  \n",
    "> - tanh의 출력은 -1.0 ~ 1.0의 실수이다.  \n",
    "> 위의 수치를 그 안에 인코딩된 \"정보\"의 강약(정도)을 표시한다고 해석할 수 있다.  \n",
    "> - 시그모이드 함수의 출력은 0.0 ~ 1.0의 실수이다.  \n",
    "> 데이터를 얼마만큼 통과시킬지를 정하는 비율을 의미한다.  \n",
    "> 따라서 (주로) 게이트에서는 시그모이드 함수가, 실질적인 \"정보\"를 지니는 데이터에는 tanh 함수가 활성화 함수로 사용된다."
   ]
  },
  {
   "cell_type": "markdown",
   "metadata": {},
   "source": [
    "## 6.2.4 forget 게이트\n",
    "\n",
    "#### 망각은 더 나은 전진을 낳습니다.\n",
    "\n",
    "우리가 다음에 해야 할 일은 기억 셀에 \"무엇을 잊을까\"를 명확하게 지시하는 것이다. 이런 일도 물론 게이트를 사용해 해결한다.\n",
    "\n",
    "그러면, $c_{t-1}$의 기억 중에서 불필요한 기억을 잊게 해주는 게이트를 추가해보자. 이를 **forget** 게이트(망각 게이트)라 부르도록 한다. forget 게이트를 LSTM 계층에 추가하면 계산 그래프가 **[그림 6-16]**처럼 된다."
   ]
  },
  {
   "cell_type": "markdown",
   "metadata": {},
   "source": [
    "**[그림 6-16] forget 게이트 추가**\n",
    "\n",
    "\n",
    "$$\n",
    "\\mathbf{f} = \\sigma(\\mathbf{x}_t \\mathbf{W}_{\\mathbf{x}}^{(\\mathbf{f})} + \\mathbf{h}_{t-1}\\mathbf{W}_\\mathbf{h}^{(\\mathbf{f})} + \\mathbf{b}^{(\\mathbf{f})})\n",
    "$$\n",
    "\n",
    "$$\n",
    "\\mathbf{c}_{t} = \\mathbf{f} \\circ c_{t-1}\n",
    "$$"
   ]
  },
  {
   "cell_type": "markdown",
   "metadata": {},
   "source": [
    "## 6.2.5 새로운 기억 셀\n",
    "\n",
    "앞에서 **forget** 게이트를 거치면서 이전 시각의 기억 셀로부터 잊어야 할 기억이 삭제되었다. 그런데 이 상태로는 기억 셀이 잊는 것밖에 하지 못한다. 그래서 새로 기억해야할 정보를 기억 셀에 **추가**해야 한다. 그러기 위해서 **[그림 6-17]**과 같이 **tanh**를 추가한다."
   ]
  },
  {
   "cell_type": "markdown",
   "metadata": {},
   "source": [
    "**[그림 6-17] 새로운 기억 셀에 필요한 정보를 추가**\n",
    "\n",
    "tanh 노드가 계산한 결과가 이전 시각의 기억 셀 $c_{t-1}$에 더해지는 것을 알 수 있다. 기억 셀에 새로운 \"정보\"가 추가된 것이다.  \n",
    "이 **tanh** 노드는 \"게이트\"가 아니며, 새로운 \"정보\"를 기억 셀에 추가하는 것이 목적입니다. 따라서 활성화 함수로는 시그모이드 함수가 아닌 **tanh** 함수가 사용된다. 이 **tanh** 노드에서 수행하는 계산은 다음과 같다."
   ]
  },
  {
   "cell_type": "markdown",
   "metadata": {},
   "source": [
    "$$\n",
    "\\mathbf{g} = \\tanh(\\mathbf{x}_t \\mathbf{W}_{\\mathbf{x}}^{(\\mathbf{g})} + \\mathbf{h}_{t-1}\\mathbf{W}_\\mathbf{h}^{(\\mathbf{g})} + \\mathbf{b}^{(\\mathbf{g})})\n",
    "$$\n",
    "\n",
    "여기에서는 기억 셀에 추가하는 새로운 기억을 **g**로 표기했다. 이 **g**가 이전 시각의 기억 셀인 $c_{t-1}$에 더해짐으로써 새로운 기억이 생겨나게 된다."
   ]
  },
  {
   "cell_type": "markdown",
   "metadata": {},
   "source": [
    "## 6.2.6 input 게이트\n",
    "\n",
    "마지막으로 **[그림 6-17]**에 **g**에 게이트를 하나 추가할 생각이다. 여기에서 새롭게 추가하는 게이트를 **input 게이트**(입력 게이트)라고 하겠다. input게이트를 추가하면 계산 그래프가 **[그림 6-18]**처럼 변한다. \n",
    "\n",
    "\n",
    "**[그림 6-18] input 게이트 추가**"
   ]
  },
  {
   "cell_type": "markdown",
   "metadata": {},
   "source": [
    "**input 게이트는 **g**의 원소가 새로 추가되는 정보로써의 가치가 얼마나 큰지를 판단한다.**\n",
    "\n",
    "새 정보를 무비판적으로 수용하는게 아니라, 적절히 취사선택하는 것이 이 게이트의 역할이다. 다른 관점에서 보면, input 게이트에 의해 가중된 정보가 새로 추가되는 셈이다.\n",
    "\n",
    "**[그림 6-18]**에서는 input 게이트를 $\\sigma$로, 그 출력을 **i**로 표기했다. 이때 수행하는 계산식은 다음과 같다.\n",
    "\n",
    "\n",
    "$$\n",
    "\\mathbf{i} = \\sigma(\\mathbf{x}_t \\mathbf{W}_{\\mathbf{x}}^{(\\mathbf{i})} + \\mathbf{h}_{t-1}\\mathbf{W}_\\mathbf{h}^{(\\mathbf{i})} + \\mathbf{b}^{(\\mathbf{i})})\n",
    "$$\n",
    "\n",
    "그런 다음 **i**와 **g**의 원소별 곱결과를 기억 셀에 추가한다. 이상이 LSTM 안에서 이뤄지는 처리이다.\n",
    "\n",
    "> **Warning**  \n",
    "> LSTM에는 \"변종\"이 몇 가지 있다. 지금까지 설명한 LSTM이 대표적인 LSTM이지만, 이 외에도 게이트 연결 방법이 (약간) 다른 계층도 볼 수 있다."
   ]
  },
  {
   "cell_type": "markdown",
   "metadata": {},
   "source": [
    "## 6.2.7 LSTM의 기울기 흐름"
   ]
  },
  {
   "cell_type": "markdown",
   "metadata": {},
   "source": [
    "LSTM의 구조는 설명이 끝났다. 그러면, 이것이 어떤 원리로 기울기 소실을 없애주는 걸까요? 그 원리는 기억 셀 **c**의 역전파에 주목하면 보인다."
   ]
  },
  {
   "cell_type": "markdown",
   "metadata": {},
   "source": [
    "**[그림 6-19] 기억 셀 역전파**"
   ]
  },
  {
   "cell_type": "markdown",
   "metadata": {},
   "source": [
    "소실이 일어나지 않는 이유\n",
    "\n",
    "1. \"+\" 노드 : 상류에서 전해지는 기울기를 그대로 흘릴 뿐, 따라서 기울기 변화(감소)는 일어나지 않는다.\n",
    "\n",
    "2. \"X\" 노드 : 여기서 사용한 노드는 행렬 곱이 아닌, \"원소별 곱\"을 계산한다.  \n",
    "    - 이번 LSTM 에서 \"X\" 노드는 매 시각 다른 게이트 값을 이용해 원소별 곱을 계산한다. 따라서 곱셈 효과가 누적되지 않아 기울기 소실이 일어나지 않는(혹은 일어나기 어려운 것이다.)\n",
    "    - \"X\"노드의 계산은 **forget 게이트**가 제어한다.(그리고 매 시각 다른 게이트 값을 출력한다.) 그리고 forget 게이트가 \"잊어야 한다\"고 판단한 기억 셀의 원소에 대해서는 그 기울기가 작아지는 것이다. 한편, forget 게이트가 \"잊어서는 안 된다\"고 판단한 원소에 대해서는 그 기울기가 약화되지 않는 채로 과거 방향으로 전달된다. \n",
    "    \n",
    "따라서 기억 셀의 기울기가 (오래 기억해야 할 정보일 경우) 소실 없이 전파되리라 기대할 수 있다.\n",
    "\n",
    "이상의 논의에서 LSTM의 기억 셀에서는 기울기 소실이 일어나지 않는 (혹은 일어나기 어려운) 이유를 알 수 있었다. 따라서 기억 셀이 장기 의존 관계를 유지(학습)하리라 기대할 수 있다."
   ]
  },
  {
   "cell_type": "markdown",
   "metadata": {},
   "source": [
    "> **LSTM**  \n",
    "> Long Short-Term Memory를 줄인 이름이다. 이 용어는 **단기 기억을 긴 시간 지속할 수 있음**을 의미한다. "
   ]
  },
  {
   "cell_type": "markdown",
   "metadata": {},
   "source": [
    "## 6.3 LSTM 구현"
   ]
  },
  {
   "cell_type": "markdown",
   "metadata": {},
   "source": [
    "우선 최초 한 단계만 처리하는 LSTM 클래스를 구현해보자. 그리고 T개의 단계를 한번에 처리하는 Time LSTM 클래스를 구현해보자 ."
   ]
  },
  {
   "cell_type": "markdown",
   "metadata": {},
   "source": [
    "다음은 LSTM에서 수행하는 계산을 정리한 수식이다.\n",
    "\n",
    "$$\n",
    "\\mathbf{f} = \\sigma(\\mathbf{x}_t \\mathbf{W}_{\\mathbf{x}}^{(\\mathbf{f})} + \\mathbf{h}_{t-1}\\mathbf{W}_\\mathbf{h}^{(\\mathbf{f})} + \\mathbf{b}^{(\\mathbf{f})})\n",
    "$$\n",
    "\n",
    "$$\n",
    "\\mathbf{g} = \\tanh(\\mathbf{x}_t \\mathbf{W}_{\\mathbf{x}}^{(\\mathbf{g})} + \\mathbf{h}_{t-1}\\mathbf{W}_\\mathbf{h}^{(\\mathbf{g})} + \\mathbf{b}^{(\\mathbf{g})})\n",
    "$$\n",
    "\n",
    "$$\n",
    "\\mathbf{i} = \\sigma(\\mathbf{x}_t \\mathbf{W}_{\\mathbf{x}}^{(\\mathbf{i})} + \\mathbf{h}_{t-1}\\mathbf{W}_\\mathbf{h}^{(\\mathbf{i})} + \\mathbf{b}^{(\\mathbf{i})})\n",
    "$$\n",
    "\n",
    "$$\n",
    "\\mathbf{o} = \\sigma(\\mathbf{x}_t \\mathbf{W}_{\\mathbf{x}}^{(o)} + \\mathbf{h}_{t-1}\\mathbf{W}_\\mathbf{h}^{(o)} + \\mathbf{b}^{(o)})\n",
    "$$\n",
    "\n",
    "$$\n",
    "\\mathbf{c}_{t} = \\mathbf{f} \\circ c_{t-1} + \\mathbf{g} \\circ \\mathbf{i}\n",
    "$$\n",
    "\n",
    "\n",
    "$$\n",
    "\\mathbf{h}_{t} = \\mathbf{o} \\circ \\text{tanh}(c_t)\n",
    "$$"
   ]
  },
  {
   "cell_type": "markdown",
   "metadata": {},
   "source": [
    "이 식들이 LSTM에서 수행하는 계산이다. 여기서 주목할 부분은 네 수식에 포함된 아핀 변환(Affine Transformation)이다. 즉, 행렬 변환과 평행 이동(편향)을 결합한 형태의 식을 말한다. 개별적으로 수행하지만, 이를 하나의 식으로 정리해 계산할 수 있다. 그 방법을 시작적으로 설명한 것이 바로 **[그림 6-20]**이다."
   ]
  },
  {
   "cell_type": "markdown",
   "metadata": {},
   "source": [
    "$$\n",
    "\\mathbf{x}_t \\mathbf{W}_{\\mathbf{x}}^{(\\mathbf{f})} + \\mathbf{h}_{t-1}\\mathbf{W}_\\mathbf{h}^{(\\mathbf{f})} + \\mathbf{b}^{(\\mathbf{f})}\n",
    "\\\\\n",
    "\\mathbf{x}_t \\mathbf{W}_{\\mathbf{x}}^{(\\mathbf{g})} + \\mathbf{h}_{t-1}\\mathbf{W}_\\mathbf{h}^{(\\mathbf{g})} + \\mathbf{b}^{(\\mathbf{g})}\n",
    "\\\\\n",
    "\\mathbf{x}_t \\mathbf{W}_{\\mathbf{x}}^{(\\mathbf{i})} + \\mathbf{h}_{t-1}\\mathbf{W}_\\mathbf{h}^{(\\mathbf{i})} + \\mathbf{b}^{(\\mathbf{i})}\n",
    "\\\\\n",
    "\\mathbf{x}_t \\mathbf{W}_{\\mathbf{x}}^{(o)} + \\mathbf{h}_{t-1}\\mathbf{W}_\\mathbf{h}^{(o)} + \\mathbf{b}^{(o)}\n",
    "$$"
   ]
  },
  {
   "cell_type": "markdown",
   "metadata": {},
   "source": [
    "$$\n",
    "\\mathbf{x}_t \\quad [\\mathbf{W}_{\\mathbf{x}}^{(\\mathbf{f})} \\quad \\mathbf{W}_{\\mathbf{x}}^{(\\mathbf{g})} \\quad \\mathbf{W}_{\\mathbf{x}}^{(\\mathbf{i})} \\quad \\mathbf{W}_{\\mathbf{x}}^{(\\mathbf{o})}]\\quad  +\\quad  \\mathbf{h}_{t-1} \\quad [\\mathbf{W}_{\\mathbf{h}}^{(\\mathbf{f})} \\quad \\mathbf{W}_{\\mathbf{h}}^{(\\mathbf{g})} \\quad \\mathbf{W}_{\\mathbf{h}}^{(\\mathbf{i})} \\quad \\mathbf{W}_{\\mathbf{h}}^{(\\mathbf{o})}] \\quad + \\quad  [\\mathbf{b}^{(\\mathbf{f})} \\quad \\mathbf{b}^{(\\mathbf{g})} \\quad \\mathbf{b}^{(\\mathbf{i})} \\quad \\mathbf{b}^{(\\mathbf{o})}] \n",
    "$$"
   ]
  },
  {
   "cell_type": "markdown",
   "metadata": {},
   "source": [
    "$$\n",
    "\\mathbf{x}_t\\mathbf{W}_{x} \\qquad + \\qquad \\mathbf{h}_{t-1}\\mathbf{W}_{h} \\qquad + \\qquad \\mathbf{b}\n",
    "$$"
   ]
  },
  {
   "cell_type": "markdown",
   "metadata": {},
   "source": [
    "### 6월 26일(토) LSTM 질문 정리\n",
    "\n",
    "1. page 245, 행렬의 \"특이값\"정도라는 표현?\n",
    "    - 특이값과 연결하여 어려움 존재.\n",
    "    - 내 의견 : 특이값이 1보다 큰지 여부를 보면 기울기 크기가 어떻게 변할지 예측할 수 있다.? 특이값의 성질로 표현한것 같음.. 행렬의 곱을 다음과 같이 전개할 수 있음. **dh$\\mathbf{W}^{T}_{h}\\mathbf{W}^{T}_{h}\\mathbf{W}^{T}_{h}\\cdots\\mathbf{W}^{T}_{h}$** 를 보면 (NxH)(HxH)(HxH)(HxH) $\\cdots$ (HxH) => (NxH) 꼴"
   ]
  }
 ],
 "metadata": {
  "kernelspec": {
   "display_name": "Python 3",
   "language": "python",
   "name": "python3"
  },
  "language_info": {
   "codemirror_mode": {
    "name": "ipython",
    "version": 3
   },
   "file_extension": ".py",
   "mimetype": "text/x-python",
   "name": "python",
   "nbconvert_exporter": "python",
   "pygments_lexer": "ipython3",
   "version": "3.6.4"
  }
 },
 "nbformat": 4,
 "nbformat_minor": 2
}
